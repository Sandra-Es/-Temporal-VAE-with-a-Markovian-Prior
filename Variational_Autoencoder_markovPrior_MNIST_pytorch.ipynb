{
  "cells": [
    {
      "cell_type": "code",
      "execution_count": 1,
      "metadata": {
        "id": "Ah4vAp88c31G"
      },
      "outputs": [],
      "source": [
        "import tensorflow as tf\n",
        "from tensorflow import keras\n",
        "from tensorflow.keras import layers\n",
        "import numpy as np\n",
        "import matplotlib.pyplot as plt\n",
        "import os\n",
        "import torch.nn.functional as F\n",
        "os.environ[\"KERAS_BACKEND\"] = \"tensorflow\"\n",
        "import numpy as np\n",
        "import tensorflow as tf\n",
        "import keras\n",
        "from keras import ops\n",
        "from keras import layers\n",
        "import torch\n",
        "\n",
        "device = torch.device(\"cuda\" if torch.cuda.is_available() else \"cpu\")"
      ]
    },
    {
      "cell_type": "markdown",
      "metadata": {
        "id": "-1fJsT9tTq_p"
      },
      "source": [
        "### Useful Functions"
      ]
    },
    {
      "cell_type": "code",
      "execution_count": 2,
      "metadata": {
        "id": "dZdIKDB_Tq_p"
      },
      "outputs": [],
      "source": [
        "def ax_standard(ax):\n",
        "\n",
        "    ax.grid(True, alpha=0.5)\n",
        "    ax.set_xlabel(\"Epoch\")\n",
        "\n",
        "def plot_results(history):\n",
        "\n",
        "    line_color = \"#f07167\"\n",
        "\n",
        "    fig, ax = plt.subplots(1, 3, figsize=(15, 5))\n",
        "    fig.tight_layout(pad=5)\n",
        "\n",
        "    ax[0].plot(history[\"loss\"], color = line_color)\n",
        "    ax_standard(ax[0])\n",
        "    ax[0].set_ylabel(\"Total Loss\")\n",
        "\n",
        "\n",
        "    ax[1].plot(history[\"kl_loss\"], color = line_color)\n",
        "    ax_standard(ax[1])\n",
        "    ax[1].set_ylabel(\"KL Loss\")\n",
        "\n",
        "\n",
        "    ax[2].plot(history[\"reconstruction_loss\"], color = line_color)\n",
        "    ax_standard(ax[2])\n",
        "    ax[2].set_ylabel(\"Reconstruction Loss\")"
      ]
    },
    {
      "cell_type": "code",
      "execution_count": 3,
      "metadata": {
        "id": "rEYLaMcua2qN"
      },
      "outputs": [],
      "source": [
        "def plot_training_vs_validation_loss(history):\n",
        "    \"\"\"\n",
        "    Plots the total loss, reconstruction loss, and KL divergence loss\n",
        "    for both training and validation.\n",
        "\n",
        "    Parameters:\n",
        "    history: Keras history object containing training and validation loss values per epoch.\n",
        "    \"\"\"\n",
        "    plt.figure(figsize=(10, 5))\n",
        "\n",
        "    # Plot total loss\n",
        "   # plt.plot(history.history[\"loss\"], label=\"Train Loss\", color=\"#545f66\")\n",
        "   # plt.plot(history.history[\"val_loss\"], label=\"Validation Loss\", color=\"#829399\", linestyle=\"dashed\")\n",
        "\n",
        "    # Plot reconstruction loss\n",
        "    plt.plot(history.history[\"reconstruction_loss\"], label=\"Train Reconstruction Loss\", color=\"#8BE4CB\")\n",
        "    #plt.plot(history.history[\"val_reconstruction_loss\"], label=\"Validation Reconstruction Loss\", color=\"#DAFA9E\", linestyle=\"dashed\")\n",
        "    plt.xlabel(\"Epochs\")\n",
        "    plt.ylabel(\"Loss Value\")\n",
        "    plt.title(\"Training vs. Validation Reconstruction Loss\")\n",
        "    plt.legend()\n",
        "    plt.grid(True)\n",
        "    plt.show()\n",
        "    # Plot KL loss\n",
        "    plt.plot(history.history[\"loss\"], label=\"Total Loss\", color=\"#b1cc74\")\n",
        "    #plt.plot(history.history[\"val_kl_loss\"], label=\"Validation KL Loss\", color=\"#DAFA9E\", linestyle=\"dashed\")\n",
        "\n",
        "    plt.xlabel(\"Epochs\")\n",
        "    plt.ylabel(\"Loss Value\")\n",
        "    plt.title(\"Training vs. Validation Kl_loss\")\n",
        "    plt.legend()\n",
        "    plt.grid(True)\n",
        "    plt.show()\n",
        "\n",
        "    plt.plot(history.history[\"kl_loss\"], label=\"KL Loss\", color=\"#b1cc74\")\n",
        "    #plt.plot(history.history[\"val_kl_loss\"], label=\"Validation KL Loss\", color=\"#DAFA9E\", linestyle=\"dashed\")\n",
        "\n",
        "    plt.xlabel(\"Epochs\")\n",
        "    plt.ylabel(\"Loss Value\")\n",
        "    plt.title(\"Training vs. Validation Kl_loss\")\n",
        "    plt.legend()\n",
        "    plt.grid(True)\n",
        "    plt.show()\n",
        "\n",
        "# Example usage (after training the VAE model)\n",
        "# plot_training_vs_validation_loss(vae.history)  # Uncomment this after training is completed\n"
      ]
    },
    {
      "cell_type": "code",
      "execution_count": 4,
      "metadata": {
        "id": "_23dKxTj4FG-"
      },
      "outputs": [],
      "source": [
        "latent_dim = 15"
      ]
    },
    {
      "cell_type": "markdown",
      "metadata": {
        "id": "tdvYWD-ZTq_q"
      },
      "source": [
        "### Paper Immplementation"
      ]
    },
    {
      "cell_type": "code",
      "execution_count": 5,
      "metadata": {
        "id": "O8IfdaaHaMx_"
      },
      "outputs": [],
      "source": [
        "class Sampling(layers.Layer):\n",
        "    \"\"\"Uses (z_mean, z_log_var) to sample z, the vector encoding a digit.\"\"\"\n",
        "\n",
        "    def __init__(self, **kwargs):\n",
        "        super().__init__(**kwargs)\n",
        "        #self.seed_generator = keras.random.SeedGenerator(3718)\n",
        "\n",
        "    def call(self, inputs):\n",
        "        z_mean, z_log_var = inputs\n",
        "        batch = ops.shape(z_mean)[0]\n",
        "        time_dim = ops.shape(z_mean)[1]\n",
        "        dim = ops.shape(z_mean)[2]\n",
        "        epsilon = tf.keras.backend.random_normal(shape=(batch,time_dim, dim)) #batch, time steps, latent dim\n",
        "        return z_mean + tf.exp(0.5 * z_log_var) * epsilon\n",
        "\n",
        "class Sampling_t1(layers.Layer):\n",
        "      def __init__(self, **kwargs):\n",
        "        super().__init__(**kwargs)\n",
        "        #self.seed_generator = keras.random.SeedGenerator(3718)\n",
        "\n",
        "      def call(self, inputs):\n",
        "          z_mean, z_log_var = inputs\n",
        "          batch = ops.shape(z_mean)[0]\n",
        "          #time_dim = ops.shape(z_mean)[1]\n",
        "          dim = ops.shape(z_mean)[1]\n",
        "          epsilon = tf.keras.backend.random_normal(shape=(batch, dim)) #batch,  latent dim\n",
        "          return z_mean + tf.exp(0.5 * z_log_var) * epsilon\n",
        "#dynamically for shape\n",
        "class Sampling(layers.Layer):\n",
        "    def call(self, inputs):\n",
        "        z_mean, z_log_var = inputs\n",
        "        epsilon = tf.random.normal(shape=tf.shape(z_mean))\n",
        "        return z_mean + tf.exp(0.5 * z_log_var) * epsilon\n"
      ]
    },
    {
      "cell_type": "code",
      "execution_count": 6,
      "metadata": {
        "colab": {
          "base_uri": "https://localhost:8080/"
        },
        "id": "ZvcCG65XR8jN",
        "outputId": "7f952bb0-1e44-45f1-d9ad-6642e55c58c3"
      },
      "outputs": [
        {
          "output_type": "stream",
          "name": "stdout",
          "text": [
            "Training Data Shape: (1000, 200, 1)\n",
            "Validation Data Shape: (200, 200, 1)\n"
          ]
        }
      ],
      "source": [
        "\n",
        "import numpy as np\n",
        "import tensorflow as tf\n",
        "\n",
        "# Generate synthetic sine wave sequences\n",
        "def generate_sine_data(num_samples=1000, sequence_length=200, noise_level=0.1):\n",
        "    \"\"\"\n",
        "    Generate sine wave sequences with slight variations.\n",
        "    num_samples: Number of sequences.\n",
        "    sequence_length: Number of time steps per sequence.\n",
        "    noise_level: Amplitude of added random noise.\n",
        "    Returns: (num_samples, sequence_length, 1) shape dataset\n",
        "    \"\"\"\n",
        "    X = []\n",
        "    for _ in range(num_samples):\n",
        "        freq = np.random.uniform(0.1, 0.5)  # Random frequency\n",
        "        phase = np.random.uniform(0, np.pi)  # Random phase shift\n",
        "        sequence = np.sin(np.linspace(0, 2 * np.pi * freq, sequence_length) + phase)\n",
        "        sequence += np.random.normal(0, noise_level, sequence_length)  # Add noise\n",
        "        X.append(sequence)\n",
        "\n",
        "    X = np.array(X).reshape(num_samples, sequence_length, 1)  # Reshape for LSTM input\n",
        "    return X\n",
        "\n",
        "# Generate data\n",
        "X_train = generate_sine_data(num_samples=1000)\n",
        "X_val = generate_sine_data(num_samples=200)\n",
        "\n",
        "# Convert to TensorFlow dataset\n",
        "train_dataset = tf.data.Dataset.from_tensor_slices(X_train).batch(32)\n",
        "val_dataset = tf.data.Dataset.from_tensor_slices(X_val).batch(32)\n",
        "\n",
        "print(\"Training Data Shape:\", X_train.shape)  # (1000, 20, 1)\n",
        "print(\"Validation Data Shape:\", X_val.shape)  # (200, 20, 1)\n"
      ]
    },
    {
      "cell_type": "code",
      "execution_count": 7,
      "metadata": {
        "colab": {
          "base_uri": "https://localhost:8080/",
          "height": 487
        },
        "id": "iFtIm9Tronhl",
        "outputId": "c379be4a-05cd-4d72-deb1-f9a3856694ff"
      },
      "outputs": [
        {
          "output_type": "stream",
          "name": "stdout",
          "text": [
            "Training Data Shape: (1000, 200, 1)\n",
            "Validation Data Shape (200, 200, 1)\n"
          ]
        },
        {
          "output_type": "display_data",
          "data": {
            "text/plain": [
              "<Figure size 640x480 with 1 Axes>"
            ],
            "image/png": "[encoded data removed]"
          },
          "metadata": {}
        }
      ],
      "source": [
        "#Genearte noisy harmonic generator\n",
        "\n",
        "\n",
        "import numpy as np\n",
        "import matplotlib.pyplot as plt\n",
        "import tensorflow as tf\n",
        "\n",
        "def generate_harmonic_oscillator_data(num_samples=1000, sequence_length=200,\n",
        "                                      mass=1.0, k_range=(0.5, 2.0),\n",
        "                                      noise_level=0.05):\n",
        "    \"\"\"\n",
        "    Generate noisy harmonic oscillator sequences.\n",
        "    Returns: shape (num_samples, sequence_length, 1)\n",
        "    \"\"\"\n",
        "    X = []\n",
        "    np.random.seed(100)\n",
        "\n",
        "    for _ in range(num_samples):\n",
        "        # Random spring constant and angular frequency\n",
        "        #k = np.random.uniform(*k_range)\n",
        "        k = 1\n",
        "\n",
        "        omega = np.sqrt(k / mass)\n",
        "\n",
        "        # Initial conditions\n",
        "        pos = np.zeros(sequence_length)\n",
        "        vel = np.zeros(sequence_length)\n",
        "        pos[0] = np.random.uniform(-1, 1)\n",
        "        vel[0] = np.random.uniform(-1, 1)\n",
        "\n",
        "        dt = 1.0\n",
        "        for t in range(1, sequence_length):\n",
        "            acc = - (k / mass) * pos[t - 1]\n",
        "\n",
        "            #euler integration\n",
        "            vel[t] = vel[t - 1] + dt * acc\n",
        "            pos[t] = pos[t - 1] + dt * vel[t]\n",
        "\n",
        "            # Add noise to velocity and position\n",
        "            vel[t] += np.random.normal(0, noise_level)\n",
        "            pos[t] += np.random.normal(0, noise_level)\n",
        "\n",
        "        X.append(pos)\n",
        "\n",
        "    X = np.array(X).reshape(num_samples, sequence_length, 1)\n",
        "    return X\n",
        "\n",
        "# Generate data\n",
        "X_train = generate_harmonic_oscillator_data(num_samples=1000, noise_level=0.01)\n",
        "X_val = generate_harmonic_oscillator_data(num_samples=200)\n",
        "\n",
        "\n",
        "print(\"Training Data Shape:\", X_train.shape)\n",
        "print(\"Validation Data Shape\", X_val.shape)\n",
        "# Convert to TensorFlow dataset\n",
        "#train_dataset = tf.data.Dataset.from_tensor_slices(X_train).batch(32)\n",
        "\n",
        "# Plot a sample\n",
        "plt.plot(X_train[0])\n",
        "plt.title(\"Noisy Harmonic Oscillator Sample\")\n",
        "plt.grid(True, alpha=0.5)\n",
        "plt.show()\n"
      ]
    },
    {
      "cell_type": "code",
      "execution_count": 8,
      "metadata": {
        "id": "_r9aiMuPRKE7"
      },
      "outputs": [],
      "source": [
        "latent_dim = 15"
      ]
    },
    {
      "cell_type": "code",
      "execution_count": 9,
      "metadata": {
        "id": "X43LJ1AQkdPU"
      },
      "outputs": [],
      "source": [
        "import torch\n",
        "from torch.utils.data import TensorDataset, DataLoader\n",
        "\n",
        "# Generate data\n",
        "X_train_np = generate_harmonic_oscillator_data(num_samples=1000, noise_level=0.01)\n",
        "X_val_np = generate_harmonic_oscillator_data(num_samples=200, noise_level=0.01)\n",
        "\n",
        "# Convert to tensors for pytorch\n",
        "X_train_tensor = torch.tensor(X_train_np, dtype=torch.float32)\n",
        "X_val_tensor = torch.tensor(X_val_np, dtype=torch.float32)\n",
        "\n",
        "# Wrap into datasets\n",
        "train_dataset = TensorDataset(X_train_tensor)\n",
        "val_dataset = TensorDataset(X_val_tensor)\n",
        "\n",
        "# Dataloaders\n",
        "train_loader = DataLoader(train_dataset, batch_size=64, shuffle=True) #shape 100 x 200 x 1\n",
        "val_loader = DataLoader(val_dataset, batch_size=64, shuffle=False) #shape 200 x 200 x 1"
      ]
    },
    {
      "cell_type": "code",
      "execution_count": 10,
      "metadata": {
        "colab": {
          "base_uri": "https://localhost:8080/"
        },
        "id": "12lDQrUukkjZ",
        "outputId": "279992ba-6e71-4727-dbda-100457a7cbb9"
      },
      "outputs": [
        {
          "output_type": "stream",
          "name": "stdout",
          "text": [
            "torch.Size([64, 200, 1])\n",
            "torch.Size([64, 200, 1])\n",
            "torch.Size([64, 200, 1])\n",
            "torch.Size([64, 200, 1])\n",
            "torch.Size([64, 200, 1])\n",
            "torch.Size([64, 200, 1])\n",
            "torch.Size([64, 200, 1])\n",
            "torch.Size([64, 200, 1])\n",
            "torch.Size([64, 200, 1])\n",
            "torch.Size([64, 200, 1])\n",
            "torch.Size([64, 200, 1])\n",
            "torch.Size([64, 200, 1])\n",
            "torch.Size([64, 200, 1])\n",
            "torch.Size([64, 200, 1])\n",
            "torch.Size([64, 200, 1])\n",
            "torch.Size([40, 200, 1])\n"
          ]
        }
      ],
      "source": [
        "for batch in train_loader:\n",
        "    x = batch[0]\n",
        "    print(x.shape)"
      ]
    },
    {
      "cell_type": "code",
      "source": [
        "import torch\n",
        "import numpy as np\n",
        "import random\n",
        "from torchvision.datasets import MNIST\n",
        "from torchvision import transforms\n",
        "\n",
        "import matplotlib.pyplot as plt\n",
        "from torch.utils.data import DataLoader\n",
        "\n",
        "\n",
        "class MovingMNIST(torch.utils.data.Dataset):\n",
        "    def __init__(self, num_sequences=1000, sequence_length=20, image_size=32, digit_size=28, speed=2):\n",
        "        self.mnist = MNIST(root='./data', train=True, download=True, transform=transforms.ToTensor())\n",
        "        self.num_sequences = num_sequences\n",
        "        self.sequence_length = sequence_length\n",
        "        self.image_size = image_size\n",
        "        self.digit_size = digit_size\n",
        "        self.speed = speed  # pixels/frame\n",
        "\n",
        "    def __len__(self):\n",
        "        return self.num_sequences\n",
        "\n",
        "    def __getitem__(self, idx):\n",
        "        canvas_size = self.image_size #32x32 looks similiar as in paper increase if required\n",
        "        frames = np.zeros((self.sequence_length, canvas_size, canvas_size), dtype=np.float32)\n",
        "\n",
        "        # Select a random MNIST digit\n",
        "        digit_img, _ = self.mnist[random.randint(0, len(self.mnist) - 1)]\n",
        "        digit_img = digit_img.squeeze(0).numpy()\n",
        "\n",
        "        # Random direction: -1 (left) or +1 (right)\n",
        "        direction = random.choice([-1, 1])\n",
        "        dx = direction * self.speed  # no of pixel left/right\n",
        "\n",
        "        # Random start\n",
        "        x = random.randint(0, canvas_size - 1)\n",
        "        y = random.randint(0, canvas_size - self.digit_size)\n",
        "        #y = (canvas_size - self.digit_size) // 2  # center vertically if needed\n",
        "\n",
        "        for t in range(self.sequence_length):\n",
        "            x_int = int(np.floor(x)) % canvas_size  # wrap x using modulo\n",
        "\n",
        "            # Handle wrap-around drawing\n",
        "            if x_int + self.digit_size <= canvas_size:\n",
        "                # Fully inside canvas\n",
        "                frames[t, y:y+self.digit_size, x_int:x_int + self.digit_size] += digit_img\n",
        "            else:\n",
        "                # Split across right and left border\n",
        "                right_part = canvas_size - x_int\n",
        "                left_part = self.digit_size - right_part\n",
        "\n",
        "                # Right slice\n",
        "                frames[t, y:y+self.digit_size, x_int:] += digit_img[:, :right_part]\n",
        "                # Left slice\n",
        "                frames[t, y:y+self.digit_size, :left_part] += digit_img[:, right_part:]\n",
        "\n",
        "            x += dx  # move with wrapping\n",
        "\n",
        "        frames = np.clip(frames, 0, 1)\n",
        "        frames = torch.tensor(frames).unsqueeze(1)  # shape: (T, 1, H, W)\n",
        "        return frames\n"
      ],
      "metadata": {
        "id": "t2ca4XkTKRRE"
      },
      "execution_count": 11,
      "outputs": []
    },
    {
      "cell_type": "code",
      "source": [
        "dataset = MovingMNIST(sequence_length=20, speed=3)\n",
        "sequence = dataset[0]\n",
        "print(sequence.shape)\n",
        "\n",
        "def show_sequence(frames, title=\"Wrapped Digit Movement\"):\n",
        "    import matplotlib.pyplot as plt\n",
        "    fig, axes = plt.subplots(1, len(frames), figsize=(len(frames), 1.5))\n",
        "    for i, ax in enumerate(axes):\n",
        "        ax.imshow(frames[i, 0], cmap=\"gray\")\n",
        "        ax.axis(\"off\")\n",
        "    plt.suptitle(title)\n",
        "    plt.show()\n",
        "\n",
        "show_sequence(sequence, title=\"Digit Moves & Wraps Around\")\n"
      ],
      "metadata": {
        "colab": {
          "base_uri": "https://localhost:8080/",
          "height": 216
        },
        "id": "_Zt2MmY9KURq",
        "outputId": "4d9c7733-2b35-4870-bd70-429968711146"
      },
      "execution_count": 12,
      "outputs": [
        {
          "output_type": "stream",
          "name": "stderr",
          "text": [
            "100%|██████████| 9.91M/9.91M [00:00<00:00, 17.9MB/s]\n",
            "100%|██████████| 28.9k/28.9k [00:00<00:00, 485kB/s]\n",
            "100%|██████████| 1.65M/1.65M [00:00<00:00, 4.51MB/s]\n",
            "100%|██████████| 4.54k/4.54k [00:00<00:00, 8.00MB/s]\n"
          ]
        },
        {
          "output_type": "stream",
          "name": "stdout",
          "text": [
            "torch.Size([20, 1, 32, 32])\n"
          ]
        },
        {
          "output_type": "display_data",
          "data": {
            "text/plain": [
              "<Figure size 2000x150 with 20 Axes>"
            ],
            "image/png": "[encoded data removed]"
          },
          "metadata": {}
        }
      ]
    },
    {
      "cell_type": "code",
      "source": [
        "# Generate data\n",
        "X_train = MovingMNIST(num_sequences=1000,sequence_length=20, speed=3 )\n",
        "X_val = MovingMNIST(num_sequences=200, sequence_length=20, speed=3)\n",
        "\n",
        "# Create data loaders\n",
        "train_loader = DataLoader(X_train, batch_size=64, shuffle=True)\n",
        "val_loader = DataLoader(X_val, batch_size=64, shuffle=False)\n",
        "\n"
      ],
      "metadata": {
        "id": "JB9NfwLsKcBO"
      },
      "execution_count": 13,
      "outputs": []
    },
    {
      "cell_type": "code",
      "execution_count": 14,
      "metadata": {
        "id": "FjB0EXOCH7cQ"
      },
      "outputs": [],
      "source": [
        "# Latent dynamics function in pytorch\n",
        "\n",
        "import torch\n",
        "import torch.nn as nn\n",
        "\n",
        "class LatentDynamics(nn.Module):\n",
        "    def __init__(self, latent_dim):\n",
        "        super(LatentDynamics, self).__init__()\n",
        "        self.latent_dim = latent_dim\n",
        "\n",
        "        # Trainable diagonal of transition matrix A\n",
        "        self.A_diag = nn.Parameter(torch.eye(latent_dim))\n",
        "\n",
        "        # Trainable log of diagonal of covariance matrix\n",
        "        self.log_cov_diag = nn.Parameter(torch.zeros(latent_dim))\n",
        "\n",
        "    def forward(self, inputs=None):  # `inputs` kept for compatibility\n",
        "        cov_diag = torch.exp(self.log_cov_diag)\n",
        "        return self.A_diag, cov_diag\n"
      ]
    },
    {
      "cell_type": "code",
      "execution_count": 15,
      "metadata": {
        "colab": {
          "base_uri": "https://localhost:8080/"
        },
        "id": "R5vfm0UfgDgl",
        "outputId": "2d2cb742-f390-4669-b573-20595d40cf17"
      },
      "outputs": [
        {
          "output_type": "execute_result",
          "data": {
            "text/plain": [
              "(torch.Size([15, 15]), torch.Size([15]))"
            ]
          },
          "metadata": {},
          "execution_count": 15
        }
      ],
      "source": [
        "latent_dynamics = LatentDynamics(latent_dim)\n",
        "A_diag, cov_diag = latent_dynamics()\n",
        "\n",
        "A_diag.shape, cov_diag.shape"
      ]
    },
    {
      "cell_type": "code",
      "execution_count": 16,
      "metadata": {
        "id": "BP75MTz6eeaV"
      },
      "outputs": [],
      "source": [
        "import random"
      ]
    },
    {
      "cell_type": "code",
      "execution_count": 17,
      "metadata": {
        "id": "rB3iOcVj5Zy4"
      },
      "outputs": [],
      "source": [
        "def time_interval():\n",
        "\n",
        "  prob = random.random()\n",
        "  if prob < 0.8: #time interval [1,10] with prob 0.8\n",
        "    t2 = random.randint(10,199) # max time interval is 10, so if t2 < 10 t1 will be negative if dt = 10\n",
        "    t1 = random.randint(t2-10,t2-1)\n",
        "  else: #time interval [1,120] with prob 0.2\n",
        "    t2 = random.randint(120,199)\n",
        "    t1 = random.randint(t2-120,t2-1)\n",
        "    print(t1)\n",
        "  return t1, t2\n",
        "\n",
        "def log_normal_pdf(x, mean, logvar):\n",
        "  return - 0.5 *(\n",
        "      tf.reduce_sum(tf.math.log(2. * np.pi) + logvar + tf.square(x - mean)/ tf.exp(logvar), axis = -1)\n",
        "  )\n",
        "\n",
        "def A_poly(A, power):\n",
        "    r\"\"\"\"\n",
        "    Returns a decresing polynomial in powers of A.\n",
        "    Ex: For power = 3, returns A^3 + A^2 + A + 1\n",
        "    \"\"\"\n",
        "    if power == 0: return 1\n",
        "    return pow(A,power) + A_poly(A, power-1)\n",
        "\n"
      ]
    },
    {
      "cell_type": "code",
      "source": [
        "#Sampling example\n",
        "for batch in train_loader:\n",
        "    x = batch\n",
        "    print(x.shape)\n",
        "    print(x[:, 13, :,:,:].shape)\n",
        "    break\n"
      ],
      "metadata": {
        "colab": {
          "base_uri": "https://localhost:8080/"
        },
        "id": "LIRZhZx8OAFd",
        "outputId": "848885a4-5c60-492a-fd7e-aa0a11076b0b"
      },
      "execution_count": 28,
      "outputs": [
        {
          "output_type": "stream",
          "name": "stdout",
          "text": [
            "torch.Size([64, 20, 1, 32, 32])\n",
            "torch.Size([64, 1, 32, 32])\n"
          ]
        }
      ]
    },
    {
      "cell_type": "code",
      "execution_count": 34,
      "metadata": {
        "id": "nTothI2VsRUW"
      },
      "outputs": [],
      "source": [
        "\n",
        "#Pytorch implementation\n",
        "\n",
        "import torch\n",
        "import torch.nn as nn\n",
        "\n",
        "class Sampling(nn.Module):\n",
        "    def __init__(self):\n",
        "        super(Sampling, self).__init__()\n",
        "\n",
        "    def forward(self, z_mean, z_log_var):\n",
        "        eps = torch.randn_like(z_mean)\n",
        "        return z_mean + eps * torch.exp(0.5 * z_log_var)\n",
        "\n",
        "class Encoder(nn.Module):\n",
        "    \"\"\"\n",
        "    Input: (B, T, 1, H, W) = (64, 20, 1, 32, 32)\n",
        "    Output: (B, T, latent_dim) = (64, 20, 15)\n",
        "    \"\"\"\n",
        "    def __init__(self, latent_dim):\n",
        "        super(Encoder, self).__init__()\n",
        "\n",
        "        self.image_encoder = nn.Sequential(\n",
        "            nn.Conv3d(1, 32, kernel_size=3, stride=2, padding=1),   # [B, 1, 20, 32, 32] -> [B, 32, 10, 16, 16]\n",
        "            nn.ReLU(),\n",
        "            nn.Conv3d(32, 64, kernel_size=3, stride=2, padding=1),  # -> [B, 64, 5, 8, 8]\n",
        "            nn.ReLU(),\n",
        "            nn.Conv3d(64, 128, kernel_size=3, stride=2, padding=1), # -> [B, 128, 3, 4, 4]\n",
        "            nn.ReLU(),\n",
        "            nn.Flatten(),                                           # -> [B, 128*3*4*4] = [B, 6144]\n",
        "        )\n",
        "\n",
        "        self.fc_bt = nn.Linear(6144, 20 * 32)          # -> [B, 640]\n",
        "        self.z_mean_t = nn.Linear(32, latent_dim)      # -> [B, 20, 15]\n",
        "        self.z_log_var_t = nn.Linear(32, latent_dim)   # -> [B, 20, 15]\n",
        "        self.sampling = Sampling()\n",
        "\n",
        "    def forward(self, x):  # x: (B, T, 1, 32, 32)\n",
        "        x = x.permute(0, 2, 1, 3, 4)    # -> (B, 1, T, H, W)\n",
        "        x = self.image_encoder(x)      # -> (B, 6144)\n",
        "        x = self.fc_bt(x)              # -> (B, 640)\n",
        "        bt = x.view(-1, 20, 32)        # -> (B, 20, 32)\n",
        "\n",
        "        z_mean = self.z_mean_t(bt)     # -> (B, 20, 15)\n",
        "        z_log_var = self.z_log_var_t(bt)  # -> (B, 20, 15)\n",
        "        zt = self.sampling(z_mean, z_log_var)  # -> (B, 20, 15)\n",
        "\n",
        "        return z_mean, z_log_var, zt, bt"
      ]
    },
    {
      "cell_type": "code",
      "execution_count": 35,
      "metadata": {
        "colab": {
          "base_uri": "https://localhost:8080/"
        },
        "id": "XDc1eiOCCKtv",
        "outputId": "8a2671ff-70b4-4500-e285-4903021b4a96"
      },
      "outputs": [
        {
          "output_type": "stream",
          "name": "stdout",
          "text": [
            "Input data shape: torch.Size([64, 20, 1, 32, 32])\n",
            "z_mean shape: torch.Size([64, 20, 15])\n",
            "z_log_var shape: torch.Size([64, 20, 15])\n",
            "zt shape: torch.Size([64, 20, 15])\n",
            "bt shape: torch.Size([64, 20, 32])\n"
          ]
        }
      ],
      "source": [
        "## checking dimensions of the encoder\n",
        "\n",
        "# Instantiate the model\n",
        "encoder = Encoder(latent_dim=15)\n",
        "\n",
        "# Set model to eval mode (optional for testing)\n",
        "encoder.eval()\n",
        "\n",
        "# Get one batch from the DataLoader\n",
        "for batch in train_loader:\n",
        "    x = batch  # shape: [64, 20, 1, 32, 32]\n",
        "    print(\"Input data shape:\", x.shape)\n",
        "    # Forward pass through encoder\n",
        "    with torch.no_grad():  # disable gradient computation for testing\n",
        "        z_mean, z_log_var, zt, bt = encoder(x)\n",
        "\n",
        "    print(\"z_mean shape:\", z_mean.shape)       # Expected: [64, 20, 15]\n",
        "    print(\"z_log_var shape:\", z_log_var.shape) # Expected: [64, 20, 15]\n",
        "    print(\"zt shape:\", zt.shape)               # Expected: [64, 20, 15]\n",
        "    print(\"bt shape:\", bt.shape)               # Expected: [64, 20, 32]\n",
        "\n",
        "    break  # just one batch\n"
      ]
    },
    {
      "cell_type": "code",
      "execution_count": 33,
      "metadata": {
        "id": "gmYlgP2z30mH"
      },
      "outputs": [],
      "source": [
        "class Decoder(nn.Module):\n",
        "    \"\"\"\n",
        "    Input: (B, latent_dim) = (64, 15)\n",
        "    Output: (B, 1, 32, 32)\n",
        "    \"\"\"\n",
        "    def __init__(self, latent_dim):\n",
        "        super(Decoder, self).__init__()\n",
        "        self.latent_dim = latent_dim\n",
        "\n",
        "        # Project latent vector to feature map: [B, 128, 4, 4]\n",
        "        self.fc = nn.Linear(latent_dim, 128 * 4 * 4)  # (64, 15) → (64, 2048)\n",
        "\n",
        "        self.decoder = nn.Sequential(\n",
        "            nn.ConvTranspose2d(128, 64, kernel_size=4, stride=2, padding=1),  # (64, 128, 4, 4) → (64, 64, 8, 8)\n",
        "            nn.ReLU(),\n",
        "            nn.ConvTranspose2d(64, 32, kernel_size=4, stride=2, padding=1),   # (64, 64, 8, 8) → (64, 32, 16, 16)\n",
        "            nn.ReLU(),\n",
        "            nn.ConvTranspose2d(32, 1, kernel_size=4, stride=2, padding=1),    # (64, 32, 16, 16) → (64, 1, 32, 32)\n",
        "            nn.Sigmoid()  # constrain output pixel values to [0,1]\n",
        "        )\n",
        "\n",
        "    def forward(self, z):\n",
        "        # z: (64, 15)\n",
        "        x = self.fc(z)                   # → (64, 2048)\n",
        "        x = x.view(-1, 128, 4, 4)        # → (64, 128, 4, 4)\n",
        "        x = self.decoder(x)             # → (64, 1, 32, 32)\n",
        "        return x"
      ]
    },
    {
      "cell_type": "code",
      "execution_count": 37,
      "metadata": {
        "colab": {
          "base_uri": "https://localhost:8080/"
        },
        "id": "GsZfQZHEIQHQ",
        "outputId": "7ff0390c-4387-4d1a-de93-92097fe404dd"
      },
      "outputs": [
        {
          "output_type": "stream",
          "name": "stdout",
          "text": [
            "Input data shape: torch.Size([64, 20, 1, 32, 32])\n",
            "z_mean shape: torch.Size([64, 20, 15])\n",
            "z_log_var shape: torch.Size([64, 20, 15])\n",
            "zt shape: torch.Size([64, 20, 15])\n",
            "bt shape: torch.Size([64, 20, 32])\n",
            "decoder_input shape: torch.Size([64, 15])\n",
            "reconstruction shape: torch.Size([64, 1, 32, 32])\n"
          ]
        }
      ],
      "source": [
        "## checking dimensions of the encoder\n",
        "\n",
        "# Instantiate the model\n",
        "encoder = Encoder(latent_dim=15)\n",
        "\n",
        "# Set model to eval mode (optional for testing)\n",
        "encoder.eval()\n",
        "\n",
        "# Get one batch from the DataLoader\n",
        "for batch in train_loader:\n",
        "    x = batch  # shape: [64, 20, 1, 32, 32]\n",
        "    print(\"Input data shape:\", x.shape)\n",
        "    # Forward pass through encoder\n",
        "    with torch.no_grad():  # disable gradient computation for testing\n",
        "        z_mean, z_log_var, zt, bt = encoder(x)\n",
        "\n",
        "    print(\"z_mean shape:\", z_mean.shape)       # Expected: [64, 20, 15]\n",
        "    print(\"z_log_var shape:\", z_log_var.shape) # Expected: [64, 20, 15]\n",
        "    print(\"zt shape:\", zt.shape)               # Expected: [64, 20, 15]\n",
        "    print(\"bt shape:\", bt.shape)               # Expected: [64, 20, 32]\n",
        "\n",
        "\n",
        "    decoder_input = zt[:,15,:]\n",
        "    print(\"decoder_input shape:\", decoder_input.shape)\n",
        "    decoder = Decoder(latent_dim=15)\n",
        "    reconstruction = decoder(decoder_input)\n",
        "    print(\"reconstruction shape:\", reconstruction.shape)\n",
        "    break  # just one batch\n"
      ]
    },
    {
      "cell_type": "code",
      "execution_count": 38,
      "metadata": {
        "id": "bRTef6GujDxK"
      },
      "outputs": [],
      "source": [
        "class Smoothing(nn.Module):\n",
        "    def __init__(self, latent_dim):\n",
        "        super(Smoothing, self).__init__()\n",
        "        input_dim = latent_dim + 32 + 32 + 1  # z_t2 + b_t1 + b_t2 + delta_t\n",
        "\n",
        "        self.qs_mean_t1 = nn.Linear(input_dim, latent_dim)  # 80 → 15 64x15\n",
        "        self.qs_log_var_t1 = nn.Linear(input_dim, latent_dim)  # 80 → 15 64x15\n",
        "        self.sampling = Sampling()\n",
        "\n",
        "    def forward(self, smoothing_input):\n",
        "        # smoothing_input shape: (batch, latent_dim + 32 + 32 + 1)\n",
        "        qs_mean = self.qs_mean_t1(smoothing_input)      # (batch, latent_dim)  # (64, 15)\n",
        "        qs_log_var = self.qs_log_var_t1(smoothing_input)  # (64, 15)\n",
        "        zt1 = self.sampling(qs_mean, qs_log_var)        # (batch, latent_dim)  # (64, 15)\n",
        "\n",
        "        return zt1, qs_mean, qs_log_var #all have shape = (latent_dim)\n"
      ]
    },
    {
      "cell_type": "code",
      "execution_count": 39,
      "metadata": {
        "id": "HLILlz7gjUqK"
      },
      "outputs": [],
      "source": [
        "import torch\n",
        "import torch.nn as nn\n",
        "\n",
        "class Transition(nn.Module):\n",
        "    def __init__(self, latent_dim):\n",
        "        super(Transition, self).__init__()\n",
        "        input_dim = latent_dim + 1  # z_t1 + delta_t\n",
        "\n",
        "        self.pt_mean_t1 = nn.Linear(input_dim, latent_dim)\n",
        "        self.pt_log_var_t1 = nn.Linear(input_dim, latent_dim)\n",
        "\n",
        "    def forward(self, transition_input):\n",
        "        # transition_input shape: (batch, latent_dim + 1)\n",
        "        pt_mean = self.pt_mean_t1(transition_input)      # (batch, latent_dim)\n",
        "        pt_log_var = self.pt_log_var_t1(transition_input)\n",
        "        return pt_mean, pt_log_var\n"
      ]
    },
    {
      "cell_type": "code",
      "execution_count": 40,
      "metadata": {
        "id": "FW_0om6tfeUx"
      },
      "outputs": [],
      "source": [
        "def log_normal_pdf(x, mean, logvar, eps=1e-6):\n",
        "    log_two_pi = torch.log(torch.tensor(2. * math.pi, device=x.device, dtype=x.dtype))\n",
        "    return -0.5 * torch.sum(\n",
        "        log_two_pi + logvar + ((x - mean) ** 2) / (torch.exp(logvar) + eps),\n",
        "        dim=-1\n",
        "    )\n",
        "\n",
        "def A_poly(A, power):\n",
        "    \"\"\"\n",
        "    Returns A^power + A^(power-1) + ... + A + I\n",
        "    \"\"\"\n",
        "    if power == 0:\n",
        "        return torch.eye(A.size(0), device=A.device, dtype=A.dtype)  # Identity matrix\n",
        "    result = torch.zeros_like(A)\n",
        "    for i in range(power + 1):\n",
        "        result += torch.matrix_power(A, i)\n",
        "    return result\n"
      ]
    },
    {
      "cell_type": "code",
      "execution_count": 41,
      "metadata": {
        "id": "54CFsWEVrlUW"
      },
      "outputs": [],
      "source": [
        "import torch\n",
        "import torch.nn as nn\n",
        "\n",
        "class VAE(nn.Module):\n",
        "    def __init__(self, encoder, decoder, smoothing, transition, latent_dim, transition_matrix_A, prior_covariance, Markov_Prior=0):\n",
        "        super(VAE, self).__init__()\n",
        "        self.encoder = encoder\n",
        "        self.decoder = decoder\n",
        "        self.latent_dim = latent_dim\n",
        "        self.smoothing = smoothing\n",
        "        self.transition = transition\n",
        "        self.Markov_Prior = Markov_Prior\n",
        "\n",
        "        self.A = transition_matrix_A  # shape: (latent_dim, latent_dim)\n",
        "        self.cov = prior_covariance   # shape: (latent_dim,) or (latent_dim, latent_dim)\n",
        "\n",
        "        # You can track losses using simple Python variables in your training loop\n",
        "        self.total_loss = 0.0\n",
        "        self.reconstruction_loss = 0.0\n",
        "        self.kl_loss = 0.0\n",
        "\n",
        "    def reset_loss_trackers(self):\n",
        "        self.total_loss = 0.0\n",
        "        self.reconstruction_loss = 0.0\n",
        "        self.kl_loss = 0.0\n",
        "\n",
        "    @property\n",
        "    def metrics(self):\n",
        "        return [\n",
        "            self.total_loss_tracker,\n",
        "            self.reconstruction_loss_tracker,\n",
        "            self.kl_loss_tracker,\n",
        "        ]\n",
        "\n",
        "    def train_step(self, data, optimizer, device):\n",
        "\n",
        "      data = data.to(device)\n",
        "\n",
        "      if self.Markov_Prior == 1:\n",
        "          # === Markov Prior ===\n",
        "          z_mean, z_log_var, z, bt = self.encoder(data)\n",
        "\n",
        "          t1, t2 = time_interval()\n",
        "          bt1, bt2 = bt[:, t1, :], bt[:, t2, :]  #(64,32) each\n",
        "          zt2 = z[:, t2, :] #(64,15)\n",
        "          dt = (t2 - t1) * torch.ones((bt1.shape[0], 1), device=device) #(64,1)\n",
        "\n",
        "          smoothing_inputs = torch.cat((bt1, bt2, zt2, dt), dim=-1) # (64, 80) → (64, 15)\n",
        "          zt1, qs_mean, qs_log_var = self.smoothing(smoothing_inputs) #(64,15) each\n",
        "\n",
        "\n",
        "          #A_pow = self.A.to(device) ** (t2 - t1)\n",
        "          A_pow = torch.matrix_power(self.A, t2 - t1)\n",
        "          pt_mean = zt1 @ A_pow.T   # (64, 15) @ (15, 15).T → (64, 15) Matrix multiplication\n",
        "          pt_log_var = torch.log(self.cov) * A_poly(self.A, t2 - t1 - 1)\n",
        "\n",
        "      else:\n",
        "          # === Non-Markov ===\n",
        "          z_mean, z_log_var, z, bt = self.encoder(data) #64x20x1x32x32 - 64x20x15\n",
        "\n",
        "          t1, t2 = time_interval()\n",
        "          bt1, bt2 = bt[:, t1, :], bt[:, t2, :]  #(64,32) each\n",
        "          zt2 = z[:, t2, :] #(64,15)\n",
        "        #   dt = (t2 - t1) * torch.ones((bt1.shape[0], 1), device=device) #(64,1)\n",
        "          dt = torch.full((x.size(0), 1), t2 - t1, dtype=bt1.dtype, device=x.device) #(64,1)\n",
        "\n",
        "          smoothing_inputs = torch.cat((bt1, bt2, zt2, dt), dim=-1)   #(64,80)\n",
        "          zt1, qs_mean, qs_log_var = self.smoothing(smoothing_inputs)  #(64,15) each\n",
        "\n",
        "          trans_input = torch.cat((zt1, dt), dim=-1) #(64, 15 + 1) = (64, 16)\n",
        "          pt_mean, pt_log_var = self.transition(trans_input) #(64 x 15) each\n",
        "\n",
        "      # === Decoder ===\n",
        "      reconstruction = self.decoder(zt2) #(64,15) - (64,1,32,32)\n",
        "      target = data[:, t2, :] #(64,1,32,32)\n",
        "\n",
        "      # === Losses ===\n",
        "      mse = torch.nn.MSELoss()\n",
        "      reconstruction_loss = mse(reconstruction, target)\n",
        "\n",
        "      log_pzt1_bt1 = log_normal_pdf(zt1, z_mean[:, t1, :], z_log_var[:, t1, :])#.sum(dim=1)\n",
        "      log_pzt2_zt1 = log_normal_pdf(zt2, pt_mean, pt_log_var)#.sum(dim=1)\n",
        "      log_pzt2_bt2 = log_normal_pdf(zt2, z_mean[:, t2, :], z_log_var[:, t2, :])#.sum(dim=1)\n",
        "      log_qzt1_given_all = log_normal_pdf(zt1, qs_mean, qs_log_var)#.sum(dim=1)\n",
        "\n",
        "      kl_loss = (log_pzt1_bt1 - log_qzt1_given_all).mean()\n",
        "      total_kl = (log_pzt1_bt1 + log_pzt2_zt1 - log_pzt2_bt2 - log_qzt1_given_all).mean()\n",
        "\n",
        "      total_loss = reconstruction_loss - total_kl\n",
        "\n",
        "      # === Backward and optimize ===\n",
        "      optimizer.zero_grad()\n",
        "      total_loss.backward()\n",
        "      optimizer.step()\n",
        "\n",
        "      # === Return metrics ===\n",
        "      return {\n",
        "          'loss': total_loss.item(),\n",
        "          'reconstruction_loss': reconstruction_loss.item(),\n",
        "          'kl_loss': -kl_loss.item()\n",
        "      }"
      ]
    },
    {
      "cell_type": "code",
      "execution_count": 42,
      "metadata": {
        "id": "8amc1rMthefv"
      },
      "outputs": [],
      "source": [
        "# Instances of the network classes\n",
        "\n",
        "encoder = Encoder(latent_dim)\n",
        "decoder = Decoder(latent_dim)\n",
        "smoothing = Smoothing(latent_dim)\n",
        "transition = Transition(latent_dim)\n"
      ]
    },
    {
      "cell_type": "markdown",
      "metadata": {
        "id": "EdGYIOMUusfZ"
      },
      "source": []
    },
    {
      "cell_type": "code",
      "execution_count": 45,
      "metadata": {
        "colab": {
          "base_uri": "https://localhost:8080/",
          "height": 349
        },
        "id": "PnHDnDTmdF_F",
        "outputId": "32115aa2-e4d6-4181-eda3-8f3dc84cf418"
      },
      "outputs": [
        {
          "output_type": "stream",
          "name": "stdout",
          "text": [
            "torch.Size([64, 20, 1, 32, 32])\n",
            "118\n"
          ]
        },
        {
          "output_type": "error",
          "ename": "IndexError",
          "evalue": "index 118 is out of bounds for dimension 1 with size 20",
          "traceback": [
            "\u001b[0;31m---------------------------------------------------------------------------\u001b[0m",
            "\u001b[0;31mIndexError\u001b[0m                                Traceback (most recent call last)",
            "\u001b[0;32m/tmp/ipython-input-45-2714308835.py\u001b[0m in \u001b[0;36m<cell line: 0>\u001b[0;34m()\u001b[0m\n\u001b[1;32m     13\u001b[0m     \u001b[0mx\u001b[0m \u001b[0;34m=\u001b[0m \u001b[0mbatch\u001b[0m\u001b[0;34m.\u001b[0m\u001b[0mto\u001b[0m\u001b[0;34m(\u001b[0m\u001b[0mdevice\u001b[0m\u001b[0;34m)\u001b[0m\u001b[0;34m\u001b[0m\u001b[0;34m\u001b[0m\u001b[0m\n\u001b[1;32m     14\u001b[0m     \u001b[0mprint\u001b[0m\u001b[0;34m(\u001b[0m\u001b[0mx\u001b[0m\u001b[0;34m.\u001b[0m\u001b[0mshape\u001b[0m\u001b[0;34m)\u001b[0m\u001b[0;34m\u001b[0m\u001b[0;34m\u001b[0m\u001b[0m\n\u001b[0;32m---> 15\u001b[0;31m     \u001b[0mmetrics\u001b[0m \u001b[0;34m=\u001b[0m \u001b[0mvae\u001b[0m\u001b[0;34m.\u001b[0m\u001b[0mtrain_step\u001b[0m\u001b[0;34m(\u001b[0m\u001b[0mx\u001b[0m\u001b[0;34m,\u001b[0m \u001b[0moptimizer\u001b[0m\u001b[0;34m,\u001b[0m \u001b[0mdevice\u001b[0m\u001b[0;34m)\u001b[0m\u001b[0;34m\u001b[0m\u001b[0;34m\u001b[0m\u001b[0m\n\u001b[0m\u001b[1;32m     16\u001b[0m     \u001b[0mprint\u001b[0m\u001b[0;34m(\u001b[0m\u001b[0mmetrics\u001b[0m\u001b[0;34m)\u001b[0m\u001b[0;34m\u001b[0m\u001b[0;34m\u001b[0m\u001b[0m\n",
            "\u001b[0;32m/tmp/ipython-input-41-2503261606.py\u001b[0m in \u001b[0;36mtrain_step\u001b[0;34m(self, data, optimizer, device)\u001b[0m\n\u001b[1;32m     60\u001b[0m \u001b[0;34m\u001b[0m\u001b[0m\n\u001b[1;32m     61\u001b[0m           \u001b[0mt1\u001b[0m\u001b[0;34m,\u001b[0m \u001b[0mt2\u001b[0m \u001b[0;34m=\u001b[0m \u001b[0mtime_interval\u001b[0m\u001b[0;34m(\u001b[0m\u001b[0;34m)\u001b[0m\u001b[0;34m\u001b[0m\u001b[0;34m\u001b[0m\u001b[0m\n\u001b[0;32m---> 62\u001b[0;31m           \u001b[0mbt1\u001b[0m\u001b[0;34m,\u001b[0m \u001b[0mbt2\u001b[0m \u001b[0;34m=\u001b[0m \u001b[0mbt\u001b[0m\u001b[0;34m[\u001b[0m\u001b[0;34m:\u001b[0m\u001b[0;34m,\u001b[0m \u001b[0mt1\u001b[0m\u001b[0;34m,\u001b[0m \u001b[0;34m:\u001b[0m\u001b[0;34m]\u001b[0m\u001b[0;34m,\u001b[0m \u001b[0mbt\u001b[0m\u001b[0;34m[\u001b[0m\u001b[0;34m:\u001b[0m\u001b[0;34m,\u001b[0m \u001b[0mt2\u001b[0m\u001b[0;34m,\u001b[0m \u001b[0;34m:\u001b[0m\u001b[0;34m]\u001b[0m  \u001b[0;31m#(64,32) each\u001b[0m\u001b[0;34m\u001b[0m\u001b[0;34m\u001b[0m\u001b[0m\n\u001b[0m\u001b[1;32m     63\u001b[0m           \u001b[0mzt2\u001b[0m \u001b[0;34m=\u001b[0m \u001b[0mz\u001b[0m\u001b[0;34m[\u001b[0m\u001b[0;34m:\u001b[0m\u001b[0;34m,\u001b[0m \u001b[0mt2\u001b[0m\u001b[0;34m,\u001b[0m \u001b[0;34m:\u001b[0m\u001b[0;34m]\u001b[0m \u001b[0;31m#(64,15)\u001b[0m\u001b[0;34m\u001b[0m\u001b[0;34m\u001b[0m\u001b[0m\n\u001b[1;32m     64\u001b[0m         \u001b[0;31m#   dt = (t2 - t1) * torch.ones((bt1.shape[0], 1), device=device) #(64,1)\u001b[0m\u001b[0;34m\u001b[0m\u001b[0;34m\u001b[0m\u001b[0m\n",
            "\u001b[0;31mIndexError\u001b[0m: index 118 is out of bounds for dimension 1 with size 20"
          ]
        }
      ],
      "source": [
        "# Testing the Network\n",
        "import math\n",
        "\n",
        "\n",
        "vae = VAE(encoder, decoder, smoothing, transition, latent_dim=3, transition_matrix_A=A_diag, prior_covariance=torch.ones(15), Markov_Prior=0)       # construct the model\n",
        "vae.to(device)        # move to GPU/CPU\n",
        "vae.train()           # <- do not remove or redefine this!\n",
        "vae.reset_loss_trackers()\n",
        "\n",
        "optimizer = torch.optim.Adam(vae.parameters(), lr=1e-3)\n",
        "\n",
        "for batch in train_loader:\n",
        "    x = batch.to(device)\n",
        "    print(x.shape)\n",
        "    metrics = vae.train_step(x, optimizer, device)\n",
        "    print(metrics)"
      ]
    },
    {
      "cell_type": "code",
      "execution_count": 44,
      "metadata": {
        "colab": {
          "base_uri": "https://localhost:8080/",
          "height": 373
        },
        "id": "XdxMH8YfkH2a",
        "outputId": "03bd9343-624e-4b46-beeb-abc77f14de5c"
      },
      "outputs": [
        {
          "output_type": "error",
          "ename": "RuntimeError",
          "evalue": "permute(sparse_coo): number of dimensions in the tensor input does not match the length of the desired ordering of dimensions i.e. input.dim() = 4 is not equal to len(dims) = 5",
          "traceback": [
            "\u001b[0;31m---------------------------------------------------------------------------\u001b[0m",
            "\u001b[0;31mRuntimeError\u001b[0m                              Traceback (most recent call last)",
            "\u001b[0;32m/tmp/ipython-input-44-2213887047.py\u001b[0m in \u001b[0;36m<cell line: 0>\u001b[0;34m()\u001b[0m\n\u001b[1;32m     12\u001b[0m \u001b[0;34m\u001b[0m\u001b[0m\n\u001b[1;32m     13\u001b[0m         \u001b[0;31m# Call your VAE's train_step method\u001b[0m\u001b[0;34m\u001b[0m\u001b[0;34m\u001b[0m\u001b[0m\n\u001b[0;32m---> 14\u001b[0;31m         \u001b[0mmetrics\u001b[0m \u001b[0;34m=\u001b[0m \u001b[0mvae\u001b[0m\u001b[0;34m.\u001b[0m\u001b[0mtrain_step\u001b[0m\u001b[0;34m(\u001b[0m\u001b[0mx\u001b[0m\u001b[0;34m,\u001b[0m \u001b[0moptimizer\u001b[0m\u001b[0;34m,\u001b[0m \u001b[0mdevice\u001b[0m\u001b[0;34m)\u001b[0m\u001b[0;34m\u001b[0m\u001b[0;34m\u001b[0m\u001b[0m\n\u001b[0m\u001b[1;32m     15\u001b[0m \u001b[0;34m\u001b[0m\u001b[0m\n\u001b[1;32m     16\u001b[0m         \u001b[0mtotal_loss\u001b[0m \u001b[0;34m+=\u001b[0m \u001b[0mmetrics\u001b[0m\u001b[0;34m[\u001b[0m\u001b[0;34m'loss'\u001b[0m\u001b[0;34m]\u001b[0m\u001b[0;34m\u001b[0m\u001b[0;34m\u001b[0m\u001b[0m\n",
            "\u001b[0;32m/tmp/ipython-input-41-2503261606.py\u001b[0m in \u001b[0;36mtrain_step\u001b[0;34m(self, data, optimizer, device)\u001b[0m\n\u001b[1;32m     57\u001b[0m       \u001b[0;32melse\u001b[0m\u001b[0;34m:\u001b[0m\u001b[0;34m\u001b[0m\u001b[0;34m\u001b[0m\u001b[0m\n\u001b[1;32m     58\u001b[0m           \u001b[0;31m# === Non-Markov ===\u001b[0m\u001b[0;34m\u001b[0m\u001b[0;34m\u001b[0m\u001b[0m\n\u001b[0;32m---> 59\u001b[0;31m           \u001b[0mz_mean\u001b[0m\u001b[0;34m,\u001b[0m \u001b[0mz_log_var\u001b[0m\u001b[0;34m,\u001b[0m \u001b[0mz\u001b[0m\u001b[0;34m,\u001b[0m \u001b[0mbt\u001b[0m \u001b[0;34m=\u001b[0m \u001b[0mself\u001b[0m\u001b[0;34m.\u001b[0m\u001b[0mencoder\u001b[0m\u001b[0;34m(\u001b[0m\u001b[0mdata\u001b[0m\u001b[0;34m)\u001b[0m \u001b[0;31m#64x20x1x32x32 - 64x20x15\u001b[0m\u001b[0;34m\u001b[0m\u001b[0;34m\u001b[0m\u001b[0m\n\u001b[0m\u001b[1;32m     60\u001b[0m \u001b[0;34m\u001b[0m\u001b[0m\n\u001b[1;32m     61\u001b[0m           \u001b[0mt1\u001b[0m\u001b[0;34m,\u001b[0m \u001b[0mt2\u001b[0m \u001b[0;34m=\u001b[0m \u001b[0mtime_interval\u001b[0m\u001b[0;34m(\u001b[0m\u001b[0;34m)\u001b[0m\u001b[0;34m\u001b[0m\u001b[0;34m\u001b[0m\u001b[0m\n",
            "\u001b[0;32m/usr/local/lib/python3.11/dist-packages/torch/nn/modules/module.py\u001b[0m in \u001b[0;36m_wrapped_call_impl\u001b[0;34m(self, *args, **kwargs)\u001b[0m\n\u001b[1;32m   1737\u001b[0m             \u001b[0;32mreturn\u001b[0m \u001b[0mself\u001b[0m\u001b[0;34m.\u001b[0m\u001b[0m_compiled_call_impl\u001b[0m\u001b[0;34m(\u001b[0m\u001b[0;34m*\u001b[0m\u001b[0margs\u001b[0m\u001b[0;34m,\u001b[0m \u001b[0;34m**\u001b[0m\u001b[0mkwargs\u001b[0m\u001b[0;34m)\u001b[0m  \u001b[0;31m# type: ignore[misc]\u001b[0m\u001b[0;34m\u001b[0m\u001b[0;34m\u001b[0m\u001b[0m\n\u001b[1;32m   1738\u001b[0m         \u001b[0;32melse\u001b[0m\u001b[0;34m:\u001b[0m\u001b[0;34m\u001b[0m\u001b[0;34m\u001b[0m\u001b[0m\n\u001b[0;32m-> 1739\u001b[0;31m             \u001b[0;32mreturn\u001b[0m \u001b[0mself\u001b[0m\u001b[0;34m.\u001b[0m\u001b[0m_call_impl\u001b[0m\u001b[0;34m(\u001b[0m\u001b[0;34m*\u001b[0m\u001b[0margs\u001b[0m\u001b[0;34m,\u001b[0m \u001b[0;34m**\u001b[0m\u001b[0mkwargs\u001b[0m\u001b[0;34m)\u001b[0m\u001b[0;34m\u001b[0m\u001b[0;34m\u001b[0m\u001b[0m\n\u001b[0m\u001b[1;32m   1740\u001b[0m \u001b[0;34m\u001b[0m\u001b[0m\n\u001b[1;32m   1741\u001b[0m     \u001b[0;31m# torchrec tests the code consistency with the following code\u001b[0m\u001b[0;34m\u001b[0m\u001b[0;34m\u001b[0m\u001b[0m\n",
            "\u001b[0;32m/usr/local/lib/python3.11/dist-packages/torch/nn/modules/module.py\u001b[0m in \u001b[0;36m_call_impl\u001b[0;34m(self, *args, **kwargs)\u001b[0m\n\u001b[1;32m   1748\u001b[0m                 \u001b[0;32mor\u001b[0m \u001b[0m_global_backward_pre_hooks\u001b[0m \u001b[0;32mor\u001b[0m \u001b[0m_global_backward_hooks\u001b[0m\u001b[0;34m\u001b[0m\u001b[0;34m\u001b[0m\u001b[0m\n\u001b[1;32m   1749\u001b[0m                 or _global_forward_hooks or _global_forward_pre_hooks):\n\u001b[0;32m-> 1750\u001b[0;31m             \u001b[0;32mreturn\u001b[0m \u001b[0mforward_call\u001b[0m\u001b[0;34m(\u001b[0m\u001b[0;34m*\u001b[0m\u001b[0margs\u001b[0m\u001b[0;34m,\u001b[0m \u001b[0;34m**\u001b[0m\u001b[0mkwargs\u001b[0m\u001b[0;34m)\u001b[0m\u001b[0;34m\u001b[0m\u001b[0;34m\u001b[0m\u001b[0m\n\u001b[0m\u001b[1;32m   1751\u001b[0m \u001b[0;34m\u001b[0m\u001b[0m\n\u001b[1;32m   1752\u001b[0m         \u001b[0mresult\u001b[0m \u001b[0;34m=\u001b[0m \u001b[0;32mNone\u001b[0m\u001b[0;34m\u001b[0m\u001b[0;34m\u001b[0m\u001b[0m\n",
            "\u001b[0;32m/tmp/ipython-input-34-2770453182.py\u001b[0m in \u001b[0;36mforward\u001b[0;34m(self, x)\u001b[0m\n\u001b[1;32m     36\u001b[0m \u001b[0;34m\u001b[0m\u001b[0m\n\u001b[1;32m     37\u001b[0m     \u001b[0;32mdef\u001b[0m \u001b[0mforward\u001b[0m\u001b[0;34m(\u001b[0m\u001b[0mself\u001b[0m\u001b[0;34m,\u001b[0m \u001b[0mx\u001b[0m\u001b[0;34m)\u001b[0m\u001b[0;34m:\u001b[0m  \u001b[0;31m# x: (B, T, 1, 32, 32)\u001b[0m\u001b[0;34m\u001b[0m\u001b[0;34m\u001b[0m\u001b[0m\n\u001b[0;32m---> 38\u001b[0;31m         \u001b[0mx\u001b[0m \u001b[0;34m=\u001b[0m \u001b[0mx\u001b[0m\u001b[0;34m.\u001b[0m\u001b[0mpermute\u001b[0m\u001b[0;34m(\u001b[0m\u001b[0;36m0\u001b[0m\u001b[0;34m,\u001b[0m \u001b[0;36m2\u001b[0m\u001b[0;34m,\u001b[0m \u001b[0;36m1\u001b[0m\u001b[0;34m,\u001b[0m \u001b[0;36m3\u001b[0m\u001b[0;34m,\u001b[0m \u001b[0;36m4\u001b[0m\u001b[0;34m)\u001b[0m    \u001b[0;31m# -> (B, 1, T, H, W)\u001b[0m\u001b[0;34m\u001b[0m\u001b[0;34m\u001b[0m\u001b[0m\n\u001b[0m\u001b[1;32m     39\u001b[0m         \u001b[0mx\u001b[0m \u001b[0;34m=\u001b[0m \u001b[0mself\u001b[0m\u001b[0;34m.\u001b[0m\u001b[0mimage_encoder\u001b[0m\u001b[0;34m(\u001b[0m\u001b[0mx\u001b[0m\u001b[0;34m)\u001b[0m      \u001b[0;31m# -> (B, 6144)\u001b[0m\u001b[0;34m\u001b[0m\u001b[0;34m\u001b[0m\u001b[0m\n\u001b[1;32m     40\u001b[0m         \u001b[0mx\u001b[0m \u001b[0;34m=\u001b[0m \u001b[0mself\u001b[0m\u001b[0;34m.\u001b[0m\u001b[0mfc_bt\u001b[0m\u001b[0;34m(\u001b[0m\u001b[0mx\u001b[0m\u001b[0;34m)\u001b[0m              \u001b[0;31m# -> (B, 640)\u001b[0m\u001b[0;34m\u001b[0m\u001b[0;34m\u001b[0m\u001b[0m\n",
            "\u001b[0;31mRuntimeError\u001b[0m: permute(sparse_coo): number of dimensions in the tensor input does not match the length of the desired ordering of dimensions i.e. input.dim() = 4 is not equal to len(dims) = 5"
          ]
        }
      ],
      "source": [
        "num_epochs = 100  # You can change this\n",
        "vae.train()  # Sets the model to training mode\n",
        "\n",
        "for epoch in range(num_epochs):\n",
        "    total_loss = 0.0\n",
        "    total_rec = 0.0\n",
        "    total_kl = 0.0\n",
        "    num_batches = 0\n",
        "\n",
        "    for batch in train_loader:\n",
        "        x = batch[0].to(device)  # assuming DataLoader yields (x,)\n",
        "\n",
        "        # Call your VAE's train_step method\n",
        "        metrics = vae.train_step(x, optimizer, device)\n",
        "\n",
        "        total_loss += metrics['loss']\n",
        "        total_rec += metrics['reconstruction_loss']\n",
        "        total_kl += metrics['kl_loss']\n",
        "        num_batches += 1\n",
        "\n",
        "    print(f\"Epoch {epoch+1}/{num_epochs} | Loss: {total_loss/num_batches:.4f} | \"\n",
        "          f\"Recon Loss: {total_rec/num_batches:.4f} | KL Loss: {total_kl/num_batches:.4f}\")\n"
      ]
    },
    {
      "cell_type": "code",
      "execution_count": null,
      "metadata": {
        "collapsed": true,
        "id": "CCxrxkp3Y0yW"
      },
      "outputs": [],
      "source": [
        "\"\"\"\n",
        "# Instance of the pytorch classes\n",
        "encoder = Encoder(latent_dim)\n",
        "decoder = Decoder(latent_dim)\n",
        "smoothing = Smoothing(latent_dim)\n",
        "transition = Transition(latent_dim)\n",
        "\n",
        "\n",
        "\n",
        "vae = VAE(encoder, decoder, smoothing, transition, latent_dim, A, cov, 1)\n",
        "vae.compile(optimizer=keras.optimizers.Adam())\n",
        "\n",
        "# try:\n",
        "#     vae.set_weights(initial_weights)\n",
        "# except:\n",
        "#     initial_weights = vae.get_weights()\n",
        "\n",
        "vae.fit(X_train, epochs=266, batch_size=128)#, validation_data=(X_val,X_val))\n",
        "\n",
        "#vae.save_weights(\"markov_final_weights.weights.h5\")\n",
        "\"\"\""
      ]
    },
    {
      "cell_type": "code",
      "execution_count": null,
      "metadata": {
        "id": "hqlO2hE9Tq_u"
      },
      "outputs": [],
      "source": [
        "markov_history = np.load(\"markov_history.npy\", allow_pickle=True).item()\n",
        "dense_history = np.load(\"dense_history.npy\", allow_pickle=True).item()\n",
        "\n",
        "markov_history.keys()"
      ]
    },
    {
      "cell_type": "code",
      "execution_count": null,
      "metadata": {
        "id": "AR7SkzXmTq_u"
      },
      "outputs": [],
      "source": [
        "plot_results(markov_history)"
      ]
    },
    {
      "cell_type": "code",
      "execution_count": null,
      "metadata": {
        "id": "iMvN0JWRTq_u"
      },
      "outputs": [],
      "source": [
        "plot_results(dense_history)"
      ]
    },
    {
      "cell_type": "code",
      "execution_count": null,
      "metadata": {
        "id": "PpiZ-Oxndv7O"
      },
      "outputs": [],
      "source": [
        "plot_training_vs_validation_loss(vae.history)"
      ]
    },
    {
      "cell_type": "markdown",
      "metadata": {
        "id": "pbvIQJKWjhsU"
      },
      "source": []
    },
    {
      "cell_type": "markdown",
      "metadata": {
        "id": "4zmwKUDqUOY_"
      },
      "source": [
        "#Test"
      ]
    },
    {
      "cell_type": "markdown",
      "metadata": {
        "id": "j8xG7qwdURsI"
      },
      "source": [
        "we pick time t1 = 60 and sample $z_{t_{1}}$ from $P_{b}(z_{t_{1}}|b_{t1})$."
      ]
    },
    {
      "cell_type": "code",
      "execution_count": null,
      "metadata": {
        "id": "99xXhnzQV93u"
      },
      "outputs": [],
      "source": [
        "num_samples = 10\n",
        "X_test = generate_sine_data(num_samples)\n",
        "X_test = generate_harmonic_oscillator_data(num_samples)"
      ]
    },
    {
      "cell_type": "code",
      "source": [
        "X_test.shape"
      ],
      "metadata": {
        "id": "ps_W5ep_CpsL"
      },
      "execution_count": null,
      "outputs": []
    },
    {
      "cell_type": "code",
      "execution_count": null,
      "metadata": {
        "id": "yWsdjcjueM3R"
      },
      "outputs": [],
      "source": [
        "t1 = 60\n",
        "z_mean, z_log_var, z, bt = encoder(X_test) # z shape = (1,200,latent dim)\n",
        "zt1 = z[:,t1,:] #(num_samples,latent dim)\n",
        "np.shape(zt1)"
      ]
    },
    {
      "cell_type": "code",
      "source": [],
      "metadata": {
        "id": "bD4XqtVYCohz"
      },
      "execution_count": null,
      "outputs": []
    },
    {
      "cell_type": "markdown",
      "metadata": {
        "id": "LdtZNnZDX9Mw"
      },
      "source": [
        "Then we choose the a time interval $δ_{t} = [20,100]$ to skip, sample from the forward model $P(z_{2} | z_1, δ_{t})$ to obtain $z_{t_{2}}$ at $t_2 = t_1 +  δ_{t}$"
      ]
    },
    {
      "cell_type": "code",
      "execution_count": null,
      "metadata": {
        "id": "qtns6r08dNnb"
      },
      "outputs": [],
      "source": [
        "def sample_gaussian(z_mean, z_log_var):\n",
        "    epsilon = tf.random.normal(shape=tf.shape(z_mean))\n",
        "    return z_mean + tf.exp(0.5 * z_log_var) * epsilon\n"
      ]
    },
    {
      "cell_type": "code",
      "execution_count": null,
      "metadata": {
        "id": "xU0fTbnHNTUc"
      },
      "outputs": [],
      "source": [
        "def mse_loss(x,z):\n",
        "  return (x-z)**2\n"
      ]
    },
    {
      "cell_type": "code",
      "execution_count": null,
      "metadata": {
        "id": "D9ZaaWIPptHh"
      },
      "outputs": [],
      "source": [
        "from tqdm import tqdm\n",
        "\n",
        "def dense_layer(X_test,t1,zt1):\n",
        "  loss = []\n",
        "  for dt in tqdm(range(20,139)):\n",
        "    #for i in range(num_samples):\n",
        "    dt1 = tf.fill([tf.shape(zt1)[0], 1], tf.cast(dt, dtype=zt1.dtype))\n",
        "\n",
        "    zt2_mean, zt2_log_var = transition(tf.concat([zt1, dt1], axis=-1))\n",
        "    zt2 = sample_gaussian(zt2_mean, zt2_log_var)\n",
        "      #my transition model doesnt sample so have to do it seperately\n",
        "\n",
        "    xt2 = decoder(zt2)\n",
        "\n",
        "    loss.append(np.mean(mse_loss(xt2, X_test[:,t1+dt])))\n",
        "\n",
        "\n",
        "\n",
        "  return loss\n",
        "\n",
        "\n",
        "def markov_prior(X_test,t1,zt1):\n",
        "  trained_A = vae.A  # shape: (latent_dim,)\n",
        "  trained_cov = vae.cov  # shape: (latent_dim,)\n",
        "  loss = []\n",
        "  for dt in tqdm(range(20,139)):\n",
        "      zt2_mean = zt1 * tf.pow(trained_A, dt)  # element-wise multiplication\n",
        "      zt2_log_var = tf.math.log(trained_cov)*A_poly(trained_A,dt-1)\n",
        "\n",
        "      zt2 = sample_gaussian(zt2_mean, zt2_log_var)\n",
        "      xt2 = decoder(zt2)\n",
        "      loss.append(np.mean(mse_loss(xt2, X_test[:,t1+dt])))\n",
        "\n",
        "\n",
        "  return loss\n",
        "\n",
        "\n",
        "\n",
        "\n"
      ]
    },
    {
      "cell_type": "code",
      "execution_count": null,
      "metadata": {
        "id": "rdrT5uWz8bsw"
      },
      "outputs": [],
      "source": [
        "markov_loss = markov_prior(X_test,t1,zt1)"
      ]
    },
    {
      "cell_type": "code",
      "execution_count": null,
      "metadata": {
        "id": "s2Quc-lw8_O_"
      },
      "outputs": [],
      "source": [
        "from scipy.interpolate import UnivariateSpline\n",
        "x = np.arange(20, len(markov_loss) + 20)\n",
        "spline = UnivariateSpline(x, markov_loss, s=10)\n",
        "markov_loss_smoothed = spline(x)\n",
        "\n",
        "plt.plot(x, markov_loss, alpha = 0.25, color=\"#161a1d\", label=\"Raw Results\")\n",
        "plt.plot(x, markov_loss_smoothed, color = \"#e5383b\", label=\"Spline Interpolation\")\n",
        "plt.grid(True, alpha=0.25)\n",
        "plt.xlabel(\"Time Skip (dt)\")\n",
        "plt.ylabel(\"MSE Loss\")\n",
        "plt.title(\"Transition: Markov Prior\")\n",
        "plt.legend()\n",
        "plt.show()"
      ]
    },
    {
      "cell_type": "code",
      "execution_count": null,
      "metadata": {
        "id": "_kEzVBmar56W"
      },
      "outputs": [],
      "source": [
        "dense_loss = dense_layer(X_test,t1,zt1)\n"
      ]
    },
    {
      "cell_type": "code",
      "execution_count": null,
      "metadata": {
        "id": "Ofvx1I3jpo5P"
      },
      "outputs": [],
      "source": [
        "plt.plot(dense_loss)"
      ]
    },
    {
      "cell_type": "code",
      "execution_count": null,
      "metadata": {
        "id": "lcoK_8EA-55l"
      },
      "outputs": [],
      "source": []
    },
    {
      "cell_type": "code",
      "execution_count": null,
      "metadata": {
        "id": "uA1httoIDwYo"
      },
      "outputs": [],
      "source": [
        "# Generate Sample Preds\n",
        "\n",
        "def markov_gen(X_test,t1,zt1):\n",
        "  trained_A = vae.A  # shape: (latent_dim,)\n",
        "  trained_cov = vae.cov  # shape: (latent_dim,)\n",
        "  loss = []\n",
        "  for dt in tqdm(range(20,139)):\n",
        "      zt2_mean = zt1 * tf.pow(trained_A, dt)  # element-wise multiplication\n",
        "      zt2_log_var = tf.math.log(trained_cov)*A_poly(trained_A,dt-1)\n",
        "\n",
        "      zt2 = sample_gaussian(zt2_mean, zt2_log_var)\n",
        "      xt2 = decoder(zt2)\n",
        "\n",
        "  return xt2\n",
        "\n",
        "preds_markov = markov_gen(X_test, t1, zt1)\n",
        "preds_markov.shape\n"
      ]
    },
    {
      "cell_type": "code",
      "execution_count": null,
      "metadata": {
        "id": "3VSMbsk5D_V3"
      },
      "outputs": [],
      "source": [
        "plt.plot(X_test[0])"
      ]
    },
    {
      "cell_type": "code",
      "execution_count": null,
      "metadata": {
        "id": "1-0RMXdvEC_o"
      },
      "outputs": [],
      "source": []
    },
    {
      "cell_type": "code",
      "execution_count": null,
      "metadata": {
        "id": "QPmWe8lMUqQk"
      },
      "outputs": [],
      "source": []
    }
  ],
  "metadata": {
    "accelerator": "GPU",
    "colab": {
      "gpuType": "T4",
      "provenance": []
    },
    "kernelspec": {
      "display_name": "tf_env",
      "language": "python",
      "name": "python3"
    },
    "language_info": {
      "codemirror_mode": {
        "name": "ipython",
        "version": 3
      },
      "file_extension": ".py",
      "mimetype": "text/x-python",
      "name": "python",
      "nbconvert_exporter": "python",
      "pygments_lexer": "ipython3",
      "version": "3.10.18"
    }
  },
  "nbformat": 4,
  "nbformat_minor": 0
}