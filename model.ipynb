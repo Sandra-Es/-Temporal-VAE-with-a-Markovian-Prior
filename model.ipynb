{
 "cells": [
  {
   "cell_type": "code",
   "execution_count": 4,
   "metadata": {},
   "outputs": [],
   "source": [
    "import tensorflow as tf\n",
    "from tensorflow import keras\n",
    "from tensorflow.keras import layers, ops\n",
    "import torch.nn.functional as F\n",
    "\n",
    "import numpy as np\n",
    "import matplotlib.pyplot as plt\n",
    "import os\n",
    "\n",
    "os.environ[\"KERAS_BACKEND\"] = \"tensorflow\""
   ]
  },
  {
   "cell_type": "markdown",
   "metadata": {},
   "source": [
    "### Useful Funcs"
   ]
  },
  {
   "cell_type": "code",
   "execution_count": 5,
   "metadata": {},
   "outputs": [],
   "source": [
    "def ax_standard(ax):\n",
    "\n",
    "    ax.grid(True, alpha=0.5)\n",
    "    ax.set_xlabel(\"Epoch\")\n",
    "\n",
    "def plot_results(history):\n",
    "\n",
    "    line_color = \"#f07167\"\n",
    "\n",
    "    fig, ax = plt.subplots(1, 3, figsize=(15, 5))\n",
    "    fig.tight_layout(pad=5)\n",
    "\n",
    "    ax[0].plot(history[\"loss\"], color = line_color)\n",
    "    ax_standard(ax[0])\n",
    "    ax[0].set_ylabel(\"Total Loss\")\n",
    "\n",
    "\n",
    "    ax[1].plot(history[\"kl_loss\"], color = line_color)\n",
    "    ax_standard(ax[1])\n",
    "    ax[1].set_ylabel(\"KL Loss\")\n",
    "\n",
    "\n",
    "    ax[2].plot(history[\"reconstruction_loss\"], color = line_color)\n",
    "    ax_standard(ax[2])\n",
    "    ax[2].set_ylabel(\"Reconstruction Loss\")"
   ]
  },
  {
   "cell_type": "code",
   "execution_count": 6,
   "metadata": {},
   "outputs": [],
   "source": [
    "def plot_training_vs_validation_loss(history, plot_kl_as_log = False):\n",
    "    \"\"\"\n",
    "    Plots the total loss, reconstruction loss, and KL divergence loss\n",
    "    for both training and validation.\n",
    "\n",
    "    Parameters:\n",
    "    history: Keras history object containing training and validation loss values per epoch.\n",
    "    \"\"\"\n",
    "\n",
    "    fig = plt.figure(figsize = (15, 15))\n",
    "    \n",
    "\n",
    "\n",
    "    plt.figure(figsize=(10, 5))\n",
    "\n",
    "    # Plot total loss\n",
    "   # plt.plot(history.history[\"loss\"], label=\"Train Loss\", color=\"#545f66\")\n",
    "   # plt.plot(history.history[\"val_loss\"], label=\"Validation Loss\", color=\"#829399\", linestyle=\"dashed\")\n",
    "\n",
    "    # Plot reconstruction loss\n",
    "    plt.plot(history.history[\"reconstruction_loss\"], label=\"Train Reconstruction Loss\", color=\"#8BE4CB\")\n",
    "    #plt.plot(history.history[\"val_reconstruction_loss\"], label=\"Validation Reconstruction Loss\", color=\"#DAFA9E\", linestyle=\"dashed\")\n",
    "    plt.xlabel(\"Epochs\")\n",
    "    plt.ylabel(\"Loss Value\")\n",
    "    plt.title(\"Training vs. Validation Reconstruction Loss\")\n",
    "    plt.legend()\n",
    "    plt.grid(True)\n",
    "    plt.show()\n",
    "    # Plot KL loss\n",
    "    if plot_kl_as_log:\n",
    "        plt.plot(np.log(history.history[\"kl_loss\"]), label=\"Train KL Loss\", color=\"#b1cc74\")\n",
    "    else:\n",
    "        plt.plot(history.history[\"kl_loss\"], label=\"Train KL Loss\", color=\"#b1cc74\")\n",
    "    #plt.plot(history.history[\"val_kl_loss\"], label=\"Validation KL Loss\", color=\"#DAFA9E\", linestyle=\"dashed\")\n",
    "\n",
    "    plt.xlabel(\"Epochs\")\n",
    "    plt.ylabel(\"Loss Value\")\n",
    "    plt.title(\"Training vs. Validation Kl_loss\")\n",
    "    plt.legend()\n",
    "    plt.grid(True)\n",
    "    plt.show()\n",
    "\n",
    "# Example usage (after training the VAE model)\n",
    "# plot_training_vs_validation_loss(vae.history)  # Uncomment this after training is completed\n"
   ]
  },
  {
   "cell_type": "markdown",
   "metadata": {},
   "source": [
    "### Generating Data"
   ]
  },
  {
   "cell_type": "code",
   "execution_count": 7,
   "metadata": {},
   "outputs": [
    {
     "name": "stdout",
     "output_type": "stream",
     "text": [
      "Training Data Shape: (1000, 20, 1)\n",
      "Validation Data Shape: (200, 20, 1)\n"
     ]
    }
   ],
   "source": [
    "# Generate synthetic sine wave sequences\n",
    "def generate_sine_data(num_samples=1000, sequence_length=20, noise_level=0.1):\n",
    "    \"\"\"\n",
    "    Generate sine wave sequences with slight variations.\n",
    "    num_samples: Number of sequences.\n",
    "    sequence_length: Number of time steps per sequence.\n",
    "    noise_level: Amplitude of added random noise.\n",
    "    Returns: (num_samples, sequence_length, 1) shape dataset\n",
    "    \"\"\"\n",
    "    X = []\n",
    "    for _ in range(num_samples):\n",
    "        freq = np.random.uniform(0.1, 0.5)  # Random frequency\n",
    "        phase = np.random.uniform(0, np.pi)  # Random phase shift\n",
    "        sequence = np.sin(np.linspace(0, 2 * np.pi * freq, sequence_length) + phase)\n",
    "        sequence += np.random.normal(0, noise_level, sequence_length)  # Add noise\n",
    "        X.append(sequence)\n",
    "\n",
    "    X = np.array(X).reshape(num_samples, sequence_length, 1)  # Reshape for LSTM input\n",
    "    return X\n",
    "\n",
    "# Generate data\n",
    "X_train = generate_sine_data(num_samples=1000)\n",
    "X_val = generate_sine_data(num_samples=200)\n",
    "\n",
    "# Convert to TensorFlow dataset\n",
    "train_dataset = tf.data.Dataset.from_tensor_slices(X_train).batch(32)\n",
    "val_dataset = tf.data.Dataset.from_tensor_slices(X_val).batch(32)\n",
    "\n",
    "print(\"Training Data Shape:\", X_train.shape)  # (1000, 20, 1)\n",
    "print(\"Validation Data Shape:\", X_val.shape)  # (200, 20, 1)\n"
   ]
  },
  {
   "cell_type": "markdown",
   "metadata": {},
   "source": [
    "### Building Model"
   ]
  },
  {
   "cell_type": "code",
   "execution_count": 8,
   "metadata": {},
   "outputs": [],
   "source": [
    "class Sampling(layers.Layer):\n",
    "    \"\"\"Uses (z_mean, z_log_var) to sample z, the vector encoding a digit.\"\"\"\n",
    "\n",
    "    def __init__(self, latent_dim, *args, **kwargs):\n",
    "        super().__init__(*args, **kwargs)\n",
    "        #self.seed_generator = keras.random.SeedGenerator(3718)\n",
    "\n",
    "        self.latent_dim = latent_dim\n",
    "\n",
    "        self.dense_mean = layers.Dense(self.latent_dim, name=\"z_mean\")\n",
    "        self.dense_log_var = layers.Dense(self.latent_dim, name=\"z_log_var\")\n",
    "\n",
    "\n",
    "    def call(self, inputs):\n",
    "        z_mean, z_log_var = inputs\n",
    "        batch = ops.shape(z_mean)[0]\n",
    "        time_dim = ops.shape(z_mean)[1]\n",
    "        dim = ops.shape(z_mean)[2]\n",
    "        epsilon = tf.keras.backend.random_normal(shape=(batch,time_dim, dim)) #batch, time steps, latent dim\n",
    "        return z_mean + tf.exp(0.5 * z_log_var) * epsilon\n",
    "    \n",
    "\n",
    "class Encoder(layers.Layer):\n",
    "\n",
    "    def __init__(self, lstm_1_dim, lstm_2_dim, latent_dim,\n",
    "                 *args, **kwargs):\n",
    "        super.__init__(*args, **kwargs)\n",
    "\n",
    "        self.lstm_1_dim = lstm_1_dim\n",
    "        self.lstm_2_dim = lstm_2_dim\n",
    "        self.latent_dim = latent_dim\n",
    "\n",
    "        self.lstm_1 = layers.LSTM(self.lstm_1_dim, return_sequences=True)\n",
    "        self.lstm_2 = layers.LSTM(self.lstm_2_dim, return_sequences=True)\n",
    "\n",
    "        self.dense_mean = layers.Dense(self.latent_dim, name=\"z_mean\")\n",
    "        self.dense_log_var = layers.Dense(self.latent_dim, name=\"z_log_var\")\n",
    "\n",
    "        self.sampler = Sampling()\n",
    "\n",
    "    def call(self, inputs):\n",
    "\n",
    "        belief_state = self.lstm_1(inputs)\n",
    "        belief_state = self.lstm_2(belief_state)\n",
    "\n",
    "        "
   ]
  },
  {
   "cell_type": "markdown",
   "metadata": {},
   "source": [
    "### Rough"
   ]
  },
  {
   "cell_type": "code",
   "execution_count": 9,
   "metadata": {},
   "outputs": [],
   "source": [
    "def A_poly(A, power):\n",
    "    r\"\"\"\"\n",
    "    Returns a decresing polynomial in powers of A.\n",
    "    Ex: For power = 3, returns A^3 + A^2 + A + 1\n",
    "    \"\"\"\n",
    "    if power == 0: return np.ones_like(A)\n",
    "    return A**power + A_poly(A, power-1)"
   ]
  },
  {
   "cell_type": "code",
   "execution_count": 10,
   "metadata": {},
   "outputs": [
    {
     "data": {
      "text/plain": [
       "array([-5, 15, 40])"
      ]
     },
     "execution_count": 10,
     "metadata": {},
     "output_type": "execute_result"
    }
   ],
   "source": [
    "A = np.array([-2, 2, 3])\n",
    "\n",
    "A_poly(A, 3)"
   ]
  },
  {
   "cell_type": "code",
   "execution_count": null,
   "metadata": {},
   "outputs": [],
   "source": []
  }
 ],
 "metadata": {
  "kernelspec": {
   "display_name": "elsa_info",
   "language": "python",
   "name": "python3"
  },
  "language_info": {
   "codemirror_mode": {
    "name": "ipython",
    "version": 3
   },
   "file_extension": ".py",
   "mimetype": "text/x-python",
   "name": "python",
   "nbconvert_exporter": "python",
   "pygments_lexer": "ipython3",
   "version": "3.11.11"
  }
 },
 "nbformat": 4,
 "nbformat_minor": 2
}
