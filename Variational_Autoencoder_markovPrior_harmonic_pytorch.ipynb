{
  "cells": [
    {
      "cell_type": "code",
      "execution_count": 1,
      "metadata": {
        "id": "Ah4vAp88c31G"
      },
      "outputs": [],
      "source": [
        "import tensorflow as tf\n",
        "from tensorflow import keras\n",
        "from tensorflow.keras import layers\n",
        "import numpy as np\n",
        "import matplotlib.pyplot as plt\n",
        "import os\n",
        "import torch.nn.functional as F\n",
        "os.environ[\"KERAS_BACKEND\"] = \"tensorflow\"\n",
        "import numpy as np\n",
        "import tensorflow as tf\n",
        "import keras\n",
        "from keras import ops\n",
        "from keras import layers\n",
        "import torch\n",
        "\n",
        "device = torch.device(\"cuda\" if torch.cuda.is_available() else \"cpu\")"
      ]
    },
    {
      "cell_type": "markdown",
      "metadata": {
        "id": "-1fJsT9tTq_p"
      },
      "source": [
        "### Useful Functions"
      ]
    },
    {
      "cell_type": "code",
      "execution_count": 2,
      "metadata": {
        "id": "dZdIKDB_Tq_p"
      },
      "outputs": [],
      "source": [
        "def ax_standard(ax):\n",
        "\n",
        "    ax.grid(True, alpha=0.5)\n",
        "    ax.set_xlabel(\"Epoch\")\n",
        "\n",
        "def plot_results(history):\n",
        "\n",
        "    line_color = \"#f07167\"\n",
        "\n",
        "    fig, ax = plt.subplots(1, 3, figsize=(15, 5))\n",
        "    fig.tight_layout(pad=5)\n",
        "\n",
        "    ax[0].plot(history[\"loss\"], color = line_color)\n",
        "    ax_standard(ax[0])\n",
        "    ax[0].set_ylabel(\"Total Loss\")\n",
        "\n",
        "\n",
        "    ax[1].plot(history[\"kl_loss\"], color = line_color)\n",
        "    ax_standard(ax[1])\n",
        "    ax[1].set_ylabel(\"KL Loss\")\n",
        "\n",
        "\n",
        "    ax[2].plot(history[\"reconstruction_loss\"], color = line_color)\n",
        "    ax_standard(ax[2])\n",
        "    ax[2].set_ylabel(\"Reconstruction Loss\")"
      ]
    },
    {
      "cell_type": "code",
      "execution_count": 3,
      "metadata": {
        "id": "rEYLaMcua2qN"
      },
      "outputs": [],
      "source": [
        "def plot_training_vs_validation_loss(history):\n",
        "    \"\"\"\n",
        "    Plots the total loss, reconstruction loss, and KL divergence loss\n",
        "    for both training and validation.\n",
        "\n",
        "    Parameters:\n",
        "    history: Keras history object containing training and validation loss values per epoch.\n",
        "    \"\"\"\n",
        "    plt.figure(figsize=(10, 5))\n",
        "\n",
        "    # Plot total loss\n",
        "   # plt.plot(history.history[\"loss\"], label=\"Train Loss\", color=\"#545f66\")\n",
        "   # plt.plot(history.history[\"val_loss\"], label=\"Validation Loss\", color=\"#829399\", linestyle=\"dashed\")\n",
        "\n",
        "    # Plot reconstruction loss\n",
        "    plt.plot(history.history[\"reconstruction_loss\"], label=\"Train Reconstruction Loss\", color=\"#8BE4CB\")\n",
        "    #plt.plot(history.history[\"val_reconstruction_loss\"], label=\"Validation Reconstruction Loss\", color=\"#DAFA9E\", linestyle=\"dashed\")\n",
        "    plt.xlabel(\"Epochs\")\n",
        "    plt.ylabel(\"Loss Value\")\n",
        "    plt.title(\"Training vs. Validation Reconstruction Loss\")\n",
        "    plt.legend()\n",
        "    plt.grid(True)\n",
        "    plt.show()\n",
        "    # Plot KL loss\n",
        "    plt.plot(history.history[\"loss\"], label=\"Total Loss\", color=\"#b1cc74\")\n",
        "    #plt.plot(history.history[\"val_kl_loss\"], label=\"Validation KL Loss\", color=\"#DAFA9E\", linestyle=\"dashed\")\n",
        "\n",
        "    plt.xlabel(\"Epochs\")\n",
        "    plt.ylabel(\"Loss Value\")\n",
        "    plt.title(\"Training vs. Validation Kl_loss\")\n",
        "    plt.legend()\n",
        "    plt.grid(True)\n",
        "    plt.show()\n",
        "\n",
        "    plt.plot(history.history[\"kl_loss\"], label=\"KL Loss\", color=\"#b1cc74\")\n",
        "    #plt.plot(history.history[\"val_kl_loss\"], label=\"Validation KL Loss\", color=\"#DAFA9E\", linestyle=\"dashed\")\n",
        "\n",
        "    plt.xlabel(\"Epochs\")\n",
        "    plt.ylabel(\"Loss Value\")\n",
        "    plt.title(\"Training vs. Validation Kl_loss\")\n",
        "    plt.legend()\n",
        "    plt.grid(True)\n",
        "    plt.show()\n",
        "\n",
        "# Example usage (after training the VAE model)\n",
        "# plot_training_vs_validation_loss(vae.history)  # Uncomment this after training is completed\n"
      ]
    },
    {
      "cell_type": "code",
      "execution_count": 4,
      "metadata": {
        "id": "_23dKxTj4FG-"
      },
      "outputs": [],
      "source": [
        "latent_dim = 15"
      ]
    },
    {
      "cell_type": "markdown",
      "metadata": {
        "id": "tdvYWD-ZTq_q"
      },
      "source": [
        "### Paper Immplementation"
      ]
    },
    {
      "cell_type": "code",
      "execution_count": 5,
      "metadata": {
        "id": "O8IfdaaHaMx_"
      },
      "outputs": [],
      "source": [
        "class Sampling(layers.Layer):\n",
        "    \"\"\"Uses (z_mean, z_log_var) to sample z, the vector encoding a digit.\"\"\"\n",
        "\n",
        "    def __init__(self, **kwargs):\n",
        "        super().__init__(**kwargs)\n",
        "        #self.seed_generator = keras.random.SeedGenerator(3718)\n",
        "\n",
        "    def call(self, inputs):\n",
        "        z_mean, z_log_var = inputs\n",
        "        batch = ops.shape(z_mean)[0]\n",
        "        time_dim = ops.shape(z_mean)[1]\n",
        "        dim = ops.shape(z_mean)[2]\n",
        "        epsilon = tf.keras.backend.random_normal(shape=(batch,time_dim, dim)) #batch, time steps, latent dim\n",
        "        return z_mean + tf.exp(0.5 * z_log_var) * epsilon\n",
        "\n",
        "class Sampling_t1(layers.Layer):\n",
        "      def __init__(self, **kwargs):\n",
        "        super().__init__(**kwargs)\n",
        "        #self.seed_generator = keras.random.SeedGenerator(3718)\n",
        "\n",
        "      def call(self, inputs):\n",
        "          z_mean, z_log_var = inputs\n",
        "          batch = ops.shape(z_mean)[0]\n",
        "          #time_dim = ops.shape(z_mean)[1]\n",
        "          dim = ops.shape(z_mean)[1]\n",
        "          epsilon = tf.keras.backend.random_normal(shape=(batch, dim)) #batch,  latent dim\n",
        "          return z_mean + tf.exp(0.5 * z_log_var) * epsilon\n",
        "#dynamically for shape\n",
        "class Sampling(layers.Layer):\n",
        "    def call(self, inputs):\n",
        "        z_mean, z_log_var = inputs\n",
        "        epsilon = tf.random.normal(shape=tf.shape(z_mean))\n",
        "        return z_mean + tf.exp(0.5 * z_log_var) * epsilon\n"
      ]
    },
    {
      "cell_type": "code",
      "execution_count": 6,
      "metadata": {
        "colab": {
          "base_uri": "https://localhost:8080/"
        },
        "id": "ZvcCG65XR8jN",
        "outputId": "bd7fab97-acab-4472-9af1-3fffc9791b2d"
      },
      "outputs": [
        {
          "name": "stdout",
          "output_type": "stream",
          "text": [
            "Training Data Shape: (1000, 200, 1)\n",
            "Validation Data Shape: (200, 200, 1)\n"
          ]
        }
      ],
      "source": [
        "\n",
        "import numpy as np\n",
        "import tensorflow as tf\n",
        "\n",
        "# Generate synthetic sine wave sequences\n",
        "def generate_sine_data(num_samples=1000, sequence_length=200, noise_level=0.1):\n",
        "    \"\"\"\n",
        "    Generate sine wave sequences with slight variations.\n",
        "    num_samples: Number of sequences.\n",
        "    sequence_length: Number of time steps per sequence.\n",
        "    noise_level: Amplitude of added random noise.\n",
        "    Returns: (num_samples, sequence_length, 1) shape dataset\n",
        "    \"\"\"\n",
        "    X = []\n",
        "    for _ in range(num_samples):\n",
        "        freq = np.random.uniform(0.1, 0.5)  # Random frequency\n",
        "        phase = np.random.uniform(0, np.pi)  # Random phase shift\n",
        "        sequence = np.sin(np.linspace(0, 2 * np.pi * freq, sequence_length) + phase)\n",
        "        sequence += np.random.normal(0, noise_level, sequence_length)  # Add noise\n",
        "        X.append(sequence)\n",
        "\n",
        "    X = np.array(X).reshape(num_samples, sequence_length, 1)  # Reshape for LSTM input\n",
        "    return X\n",
        "\n",
        "# Generate data\n",
        "X_train = generate_sine_data(num_samples=1000)\n",
        "X_val = generate_sine_data(num_samples=200)\n",
        "\n",
        "# Convert to TensorFlow dataset\n",
        "train_dataset = tf.data.Dataset.from_tensor_slices(X_train).batch(32)\n",
        "val_dataset = tf.data.Dataset.from_tensor_slices(X_val).batch(32)\n",
        "\n",
        "print(\"Training Data Shape:\", X_train.shape)  # (1000, 20, 1)\n",
        "print(\"Validation Data Shape:\", X_val.shape)  # (200, 20, 1)\n"
      ]
    },
    {
      "cell_type": "code",
      "execution_count": 7,
      "metadata": {
        "colab": {
          "base_uri": "https://localhost:8080/",
          "height": 487
        },
        "id": "iFtIm9Tronhl",
        "outputId": "38c89399-7b0c-417b-d3a2-f28f8898f3ec"
      },
      "outputs": [
        {
          "name": "stdout",
          "output_type": "stream",
          "text": [
            "Training Data Shape: (1000, 200, 1)\n",
            "Validation Data Shape (200, 200, 1)\n"
          ]
        },
        {
          "data": {
            "image/png": "[encoded data removed]",
            "text/plain": [
              "<Figure size 640x480 with 1 Axes>"
            ]
          },
          "metadata": {},
          "output_type": "display_data"
        }
      ],
      "source": [
        "#Genearte noisy harmonic generator\n",
        "\n",
        "\n",
        "import numpy as np\n",
        "import matplotlib.pyplot as plt\n",
        "import tensorflow as tf\n",
        "\n",
        "def generate_harmonic_oscillator_data(num_samples=1000, sequence_length=200,\n",
        "                                      mass=1.0, k_range=(0.5, 2.0),\n",
        "                                      noise_level=0.05):\n",
        "    \"\"\"\n",
        "    Generate noisy harmonic oscillator sequences.\n",
        "    Returns: shape (num_samples, sequence_length, 1)\n",
        "    \"\"\"\n",
        "    X = []\n",
        "    np.random.seed(100)\n",
        "\n",
        "    for _ in range(num_samples):\n",
        "        # Random spring constant and angular frequency\n",
        "        #k = np.random.uniform(*k_range)\n",
        "        k = 1\n",
        "\n",
        "        omega = np.sqrt(k / mass)\n",
        "\n",
        "        # Initial conditions\n",
        "        pos = np.zeros(sequence_length)\n",
        "        vel = np.zeros(sequence_length)\n",
        "        pos[0] = np.random.uniform(-1, 1)\n",
        "        vel[0] = np.random.uniform(-1, 1)\n",
        "\n",
        "        dt = 1.0\n",
        "        for t in range(1, sequence_length):\n",
        "            acc = - (k / mass) * pos[t - 1]\n",
        "\n",
        "            #euler integration\n",
        "            vel[t] = vel[t - 1] + dt * acc\n",
        "            pos[t] = pos[t - 1] + dt * vel[t]\n",
        "\n",
        "            # Add noise to velocity and position\n",
        "            vel[t] += np.random.normal(0, noise_level)\n",
        "            pos[t] += np.random.normal(0, noise_level)\n",
        "\n",
        "        X.append(pos)\n",
        "\n",
        "    X = np.array(X).reshape(num_samples, sequence_length, 1)\n",
        "    return X\n",
        "\n",
        "# Generate data\n",
        "X_train = generate_harmonic_oscillator_data(num_samples=1000, noise_level=0.01)\n",
        "X_val = generate_harmonic_oscillator_data(num_samples=200)\n",
        "\n",
        "\n",
        "print(\"Training Data Shape:\", X_train.shape)\n",
        "print(\"Validation Data Shape\", X_val.shape)\n",
        "# Convert to TensorFlow dataset\n",
        "#train_dataset = tf.data.Dataset.from_tensor_slices(X_train).batch(32)\n",
        "\n",
        "# Plot a sample\n",
        "plt.plot(X_train[0])\n",
        "plt.title(\"Noisy Harmonic Oscillator Sample\")\n",
        "plt.grid(True, alpha=0.5)\n",
        "plt.show()\n"
      ]
    },
    {
      "cell_type": "code",
      "execution_count": 8,
      "metadata": {
        "id": "_r9aiMuPRKE7"
      },
      "outputs": [],
      "source": [
        "latent_dim = 15"
      ]
    },
    {
      "cell_type": "code",
      "execution_count": 9,
      "metadata": {
        "id": "X43LJ1AQkdPU"
      },
      "outputs": [],
      "source": [
        "import torch\n",
        "from torch.utils.data import TensorDataset, DataLoader\n",
        "\n",
        "# Generate data\n",
        "X_train_np = generate_harmonic_oscillator_data(num_samples=1000, noise_level=0.01)\n",
        "X_val_np = generate_harmonic_oscillator_data(num_samples=200, noise_level=0.01)\n",
        "\n",
        "# Convert to tensors for pytorch\n",
        "X_train_tensor = torch.tensor(X_train_np, dtype=torch.float32)\n",
        "X_val_tensor = torch.tensor(X_val_np, dtype=torch.float32)\n",
        "\n",
        "# Wrap into datasets\n",
        "train_dataset = TensorDataset(X_train_tensor)\n",
        "val_dataset = TensorDataset(X_val_tensor)\n",
        "\n",
        "# Dataloaders\n",
        "train_loader = DataLoader(train_dataset, batch_size=64, shuffle=True) #shape 100 x 200 x 1\n",
        "val_loader = DataLoader(val_dataset, batch_size=64, shuffle=False) #shape 200 x 200 x 1"
      ]
    },
    {
      "cell_type": "code",
      "execution_count": 10,
      "metadata": {
        "colab": {
          "base_uri": "https://localhost:8080/"
        },
        "id": "12lDQrUukkjZ",
        "outputId": "75580bbd-d5a7-421d-837b-c9bcc654a605"
      },
      "outputs": [
        {
          "name": "stdout",
          "output_type": "stream",
          "text": [
            "torch.Size([64, 200, 1])\n",
            "torch.Size([64, 200, 1])\n",
            "torch.Size([64, 200, 1])\n",
            "torch.Size([64, 200, 1])\n",
            "torch.Size([64, 200, 1])\n",
            "torch.Size([64, 200, 1])\n",
            "torch.Size([64, 200, 1])\n",
            "torch.Size([64, 200, 1])\n",
            "torch.Size([64, 200, 1])\n",
            "torch.Size([64, 200, 1])\n",
            "torch.Size([64, 200, 1])\n",
            "torch.Size([64, 200, 1])\n",
            "torch.Size([64, 200, 1])\n",
            "torch.Size([64, 200, 1])\n",
            "torch.Size([64, 200, 1])\n",
            "torch.Size([40, 200, 1])\n"
          ]
        }
      ],
      "source": [
        "for batch in train_loader:\n",
        "    x = batch[0]\n",
        "    print(x.shape)"
      ]
    },
    {
      "cell_type": "code",
      "execution_count": 11,
      "metadata": {
        "id": "FjB0EXOCH7cQ"
      },
      "outputs": [],
      "source": [
        "# Latent dynamics function in pytorch\n",
        "\n",
        "import torch\n",
        "import torch.nn as nn\n",
        "\n",
        "class LatentDynamics(nn.Module):\n",
        "    def __init__(self, latent_dim):\n",
        "        super(LatentDynamics, self).__init__()\n",
        "        self.latent_dim = latent_dim\n",
        "\n",
        "        # Trainable diagonal of transition matrix A\n",
        "        self.A_diag = nn.Parameter(torch.ones(latent_dim))\n",
        "\n",
        "        # Trainable log of diagonal of covariance matrix\n",
        "        self.log_cov_diag = nn.Parameter(torch.zeros(latent_dim))\n",
        "\n",
        "    def forward(self, inputs=None):  # `inputs` kept for compatibility\n",
        "        cov_diag = torch.exp(self.log_cov_diag)\n",
        "        return self.A_diag, cov_diag\n"
      ]
    },
    {
      "cell_type": "code",
      "execution_count": 12,
      "metadata": {
        "colab": {
          "base_uri": "https://localhost:8080/"
        },
        "id": "R5vfm0UfgDgl",
        "outputId": "30da4362-e502-4f7a-cec7-006a8e3842b2"
      },
      "outputs": [
        {
          "data": {
            "text/plain": [
              "(torch.Size([15]), torch.Size([15]))"
            ]
          },
          "execution_count": 12,
          "metadata": {},
          "output_type": "execute_result"
        }
      ],
      "source": [
        "latent_dynamics = LatentDynamics(latent_dim)\n",
        "A_diag, cov_diag = latent_dynamics()\n",
        "\n",
        "A_diag.shape, cov_diag.shape"
      ]
    },
    {
      "cell_type": "code",
      "execution_count": null,
      "metadata": {
        "id": "18WV2PW1gFhP"
      },
      "outputs": [],
      "source": []
    },
    {
      "cell_type": "code",
      "execution_count": 13,
      "metadata": {
        "id": "BP75MTz6eeaV"
      },
      "outputs": [],
      "source": [
        "import random"
      ]
    },
    {
      "cell_type": "code",
      "execution_count": 14,
      "metadata": {
        "id": "rB3iOcVj5Zy4"
      },
      "outputs": [],
      "source": [
        "def time_interval():\n",
        "\n",
        "  prob = random.random()\n",
        "  if prob < 0.8: #time interval [1,10] with prob 0.8\n",
        "    t2 = random.randint(10,199) # max time interval is 10, so if t2 < 10 t1 will be negative if dt = 10\n",
        "    t1 = random.randint(t2-10,t2-1)\n",
        "  else: #time interval [1,120] with prob 0.2\n",
        "    t2 = random.randint(120,199)\n",
        "    t1 = random.randint(t2-120,t2-1)\n",
        "    print(t1)\n",
        "  return t1, t2\n",
        "\n",
        "def log_normal_pdf(x, mean, logvar):\n",
        "  return - 0.5 *(\n",
        "      tf.reduce_sum(tf.math.log(2. * np.pi) + logvar + tf.square(x - mean)/ tf.exp(logvar), axis = -1)\n",
        "  )\n",
        "\n",
        "def A_poly(A, power):\n",
        "    r\"\"\"\"\n",
        "    Returns a decresing polynomial in powers of A.\n",
        "    Ex: For power = 3, returns A^3 + A^2 + A + 1\n",
        "    \"\"\"\n",
        "    if power == 0: return 1\n",
        "    return pow(A,power) + A_poly(A, power-1)\n",
        "\n"
      ]
    },
    {
      "cell_type": "code",
      "execution_count": 15,
      "metadata": {
        "colab": {
          "base_uri": "https://localhost:8080/",
          "height": 105
        },
        "id": "6LGhSEUhikL6",
        "outputId": "1f69f480-07cb-4617-b743-402f014822a4"
      },
      "outputs": [
        {
          "data": {
            "text/plain": [
              "'\\nencoder_inputs = keras.Input(shape = (200,1))\\nbt = layers.LSTM(64, return_sequences = True)(encoder_inputs)\\nbt = layers.LSTM(32, return_sequences = True, name = \\'bt\\')(bt) # (time, 32)\\n#TODO: Implement a DENSE layer to get bt instead of assuming x is bt\\n#belief state\\n# This is Pb at all times, use the time index to get Pbt1 and Pbt2\\nz_mean = layers.Dense(latent_dim, name = \\'z_mean_t\\')(bt) # (time, latentDim) (20,15)\\nz_log_var = layers.Dense(latent_dim, name = \\'z_log_var_t\\')(bt)\\n\\n#zt2, this will directly be used in the decoder, no t2 entire thing can be passed into decoder\\nzt = Sampling()([z_mean, z_log_var]) #(time , latent dim samples)\\n\\nencoder = keras.Model(encoder_inputs, [z_mean, z_log_var, zt, bt ], name=\"encoder\")\\nencoder.summary()\\n'"
            ]
          },
          "execution_count": 15,
          "metadata": {},
          "output_type": "execute_result"
        }
      ],
      "source": [
        "\"\"\"\n",
        "encoder_inputs = keras.Input(shape = (200,1))\n",
        "bt = layers.LSTM(64, return_sequences = True)(encoder_inputs)\n",
        "bt = layers.LSTM(32, return_sequences = True, name = 'bt')(bt) # (time, 32)\n",
        "#TODO: Implement a DENSE layer to get bt instead of assuming x is bt\n",
        "#belief state\n",
        "# This is Pb at all times, use the time index to get Pbt1 and Pbt2\n",
        "z_mean = layers.Dense(latent_dim, name = 'z_mean_t')(bt) # (time, latentDim) (20,15)\n",
        "z_log_var = layers.Dense(latent_dim, name = 'z_log_var_t')(bt)\n",
        "\n",
        "#zt2, this will directly be used in the decoder, no t2 entire thing can be passed into decoder\n",
        "zt = Sampling()([z_mean, z_log_var]) #(time , latent dim samples)\n",
        "\n",
        "encoder = keras.Model(encoder_inputs, [z_mean, z_log_var, zt, bt ], name=\"encoder\")\n",
        "encoder.summary()\n",
        "\"\"\""
      ]
    },
    {
      "cell_type": "code",
      "execution_count": 16,
      "metadata": {
        "colab": {
          "base_uri": "https://localhost:8080/"
        },
        "id": "s8EIT8t-indb",
        "outputId": "c0b37034-099a-4108-8e5b-41004910fc61"
      },
      "outputs": [
        {
          "data": {
            "text/plain": [
              "(1000, 200, 1)"
            ]
          },
          "execution_count": 16,
          "metadata": {},
          "output_type": "execute_result"
        }
      ],
      "source": [
        "X_train.shape\n",
        "\n"
      ]
    },
    {
      "cell_type": "code",
      "execution_count": 17,
      "metadata": {
        "id": "nTothI2VsRUW"
      },
      "outputs": [],
      "source": [
        "\n",
        "#Pytorch implementation\n",
        "\n",
        "import torch\n",
        "import torch.nn as nn\n",
        "\n",
        "class Sampling(nn.Module):\n",
        "    def __init__(self):\n",
        "        super(Sampling, self).__init__()\n",
        "\n",
        "    def forward(self, z_mean, z_log_var):\n",
        "        eps = torch.randn_like(z_mean)\n",
        "        return z_mean + eps * torch.exp(0.5 * z_log_var)\n",
        "\n",
        "class Encoder(nn.Module):\n",
        "    def __init__(self, latent_dim):\n",
        "        super(Encoder, self).__init__()\n",
        "        self.lstm1 = nn.LSTM(input_size=1, hidden_size=64, batch_first=True)\n",
        "        self.lstm2 = nn.LSTM(input_size=64, hidden_size=32, batch_first=True)  # \"bt\" output\n",
        "\n",
        "        # Linear layers for z_mean and z_log_var (per time step)\n",
        "        self.z_mean_t = nn.Linear(32, latent_dim)\n",
        "        self.z_log_var_t = nn.Linear(32, latent_dim)\n",
        "\n",
        "        self.sampling = Sampling()\n",
        "\n",
        "    def forward(self, x):\n",
        "        # x shape: (batch, 200, 1)\n",
        "        bt, _ = self.lstm1(x)  # 64x200x1 =}  64x200x64\n",
        "        bt, _ = self.lstm2(bt)  # bt: (batch, time, 32) 64x200x32\n",
        "\n",
        "        z_mean = self.z_mean_t(bt)      # (batch, time, latent_dim) 64x200x32 - 64x200x15\n",
        "        z_log_var = self.z_log_var_t(bt) # 64x200x15\n",
        "        zt = self.sampling(z_mean, z_log_var)  # (batch, time, latent_dim) zt: (64, 200, 15)\n",
        "\n",
        "        return z_mean, z_log_var, zt, bt\n",
        "\n"
      ]
    },
    {
      "cell_type": "code",
      "execution_count": 18,
      "metadata": {
        "colab": {
          "base_uri": "https://localhost:8080/",
          "height": 53
        },
        "id": "XDc1eiOCCKtv",
        "outputId": "b545b4cc-afb3-417a-d3b3-301b484c99b1"
      },
      "outputs": [
        {
          "data": {
            "text/plain": [
              "'\\nlatent_inputs = keras.Input(shape=(latent_dim,))\\nx = layers.Dense(32, activation=\"relu\")(latent_inputs)\\nx = layers.Dense(64, activation=\"relu\")(x)\\ndecoder_outputs = layers.Dense(1, activation=\"sigmoid\")(x)  # Predict just x_{t2}\\n\\ndecoder = keras.Model(latent_inputs, decoder_outputs, name=\"decoder\")\\ndecoder.summary()\\n'"
            ]
          },
          "execution_count": 18,
          "metadata": {},
          "output_type": "execute_result"
        }
      ],
      "source": [
        "\"\"\"\n",
        "latent_inputs = keras.Input(shape=(latent_dim,))\n",
        "x = layers.Dense(32, activation=\"relu\")(latent_inputs)\n",
        "x = layers.Dense(64, activation=\"relu\")(x)\n",
        "decoder_outputs = layers.Dense(1, activation=\"sigmoid\")(x)  # Predict just x_{t2}\n",
        "\n",
        "decoder = keras.Model(latent_inputs, decoder_outputs, name=\"decoder\")\n",
        "decoder.summary()\n",
        "\"\"\""
      ]
    },
    {
      "cell_type": "code",
      "execution_count": null,
      "metadata": {
        "id": "gmYlgP2z30mH"
      },
      "outputs": [],
      "source": [
        "#decoder: Pytorch implementation\n",
        "\n",
        "\n",
        "class Decoder(nn.Module):\n",
        "    def __init__(self, latent_dim):\n",
        "        super(Decoder, self).__init__()\n",
        "        self.decoder = nn.Sequential(\n",
        "            nn.Linear(latent_dim, 32),\n",
        "            nn.ReLU(),\n",
        "            nn.Linear(32, 64),\n",
        "            nn.ReLU(),\n",
        "            nn.Linear(64, 1)#,\n",
        "            #nn.Sigmoid() #TODO: is sigmoid the most appropriate \n",
        "        )\n",
        "\n",
        "    def forward(self, z):\n",
        "        return self.decoder(z)  # Output shape: (batch, 1)\n"
      ]
    },
    {
      "cell_type": "code",
      "execution_count": 20,
      "metadata": {
        "colab": {
          "base_uri": "https://localhost:8080/",
          "height": 70
        },
        "id": "GsZfQZHEIQHQ",
        "outputId": "2e4432ea-9939-48a0-c561-ea85d0040a19"
      },
      "outputs": [
        {
          "data": {
            "text/plain": [
              "'\\nsmoothing_input = keras.Input(shape = (latent_dim+32+32 +1,)) #latent_dim + bt1+ bt2 + time interval\\nqs_mean = layers.Dense(latent_dim, name = \\'qs_mean_t1\\')(smoothing_input) # (latentDim) (15)\\nqs_log_var = layers.Dense(latent_dim, name = \\'qs_log_var_t1\\')(smoothing_input)\\n\\nzt1 = Sampling()([qs_mean, qs_log_var]) #( latent dim samples)\\nsmoothing = keras.Model(smoothing_input,[zt1,qs_mean,qs_log_var], name = \"smoothing\")\\nsmoothing.summary()\\n'"
            ]
          },
          "execution_count": 20,
          "metadata": {},
          "output_type": "execute_result"
        }
      ],
      "source": [
        "\"\"\"\n",
        "smoothing_input = keras.Input(shape = (latent_dim+32+32 +1,)) #latent_dim + bt1+ bt2 + time interval\n",
        "qs_mean = layers.Dense(latent_dim, name = 'qs_mean_t1')(smoothing_input) # (latentDim) (15)\n",
        "qs_log_var = layers.Dense(latent_dim, name = 'qs_log_var_t1')(smoothing_input)\n",
        "\n",
        "zt1 = Sampling()([qs_mean, qs_log_var]) #( latent dim samples)\n",
        "smoothing = keras.Model(smoothing_input,[zt1,qs_mean,qs_log_var], name = \"smoothing\")\n",
        "smoothing.summary()\n",
        "\"\"\""
      ]
    },
    {
      "cell_type": "code",
      "execution_count": null,
      "metadata": {
        "id": "bRTef6GujDxK"
      },
      "outputs": [],
      "source": [
        "class Smoothing(nn.Module):\n",
        "    def __init__(self, latent_dim):\n",
        "        super(Smoothing, self).__init__()\n",
        "        input_dim = latent_dim + 32 + 32 + 1  # z_t2 + b_t1 + b_t2 + delta_t\n",
        "\n",
        "        self.qs_mean_t1 = nn.Linear(input_dim, latent_dim)  # 80 → 15 64x15\n",
        "        self.qs_log_var_t1 = nn.Linear(input_dim, latent_dim)  # 80 → 15 64x15\n",
        "        self.sampling = Sampling()\n",
        "\n",
        "    def forward(self, smoothing_input):\n",
        "        # smoothing_input shape: (batch, latent_dim + 32 + 32 + 1)\n",
        "        qs_mean = self.qs_mean_t1(smoothing_input)      # (batch, latent_dim)  # (64, 15)\n",
        "        qs_log_var = self.qs_log_var_t1(smoothing_input)  # (64, 15)\n",
        "        zt1 = self.sampling(qs_mean, qs_log_var)        # (batch, latent_dim)  # (64, 15)\n",
        "\n",
        "        return zt1, qs_mean, qs_log_var #all have shape = (latent_dim)\n"
      ]
    },
    {
      "cell_type": "code",
      "execution_count": 22,
      "metadata": {
        "colab": {
          "base_uri": "https://localhost:8080/",
          "height": 70
        },
        "id": "dAu8fxQWlnOh",
        "outputId": "fe71867b-42d2-4f90-e123-6874f6c49e98"
      },
      "outputs": [
        {
          "data": {
            "text/plain": [
              "'\\ntransition_input = keras.Input(shape = (latent_dim + 1,)) #latent dim + time interval\\npt_mean = layers.Dense(latent_dim, name = \\'pt_mean_t1\\')(transition_input) # (latentDim) (15)\\npt_log_var = layers.Dense(latent_dim, name = \\'pt_log_var_t1\\')(transition_input)\\n\\ntransition = keras.Model(transition_input,[pt_mean,pt_log_var], name = \"transition_dense\")\\ntransition.summary()\\n'"
            ]
          },
          "execution_count": 22,
          "metadata": {},
          "output_type": "execute_result"
        }
      ],
      "source": [
        "\"\"\"\n",
        "transition_input = keras.Input(shape = (latent_dim + 1,)) #latent dim + time interval\n",
        "pt_mean = layers.Dense(latent_dim, name = 'pt_mean_t1')(transition_input) # (latentDim) (15)\n",
        "pt_log_var = layers.Dense(latent_dim, name = 'pt_log_var_t1')(transition_input)\n",
        "\n",
        "transition = keras.Model(transition_input,[pt_mean,pt_log_var], name = \"transition_dense\")\n",
        "transition.summary()\n",
        "\"\"\""
      ]
    },
    {
      "cell_type": "code",
      "execution_count": 23,
      "metadata": {
        "id": "HLILlz7gjUqK"
      },
      "outputs": [],
      "source": [
        "import torch\n",
        "import torch.nn as nn\n",
        "\n",
        "class Transition(nn.Module):\n",
        "    def __init__(self, latent_dim):\n",
        "        super(Transition, self).__init__()\n",
        "        input_dim = latent_dim + 1  # z_t1 + delta_t\n",
        "\n",
        "        self.pt_mean_t1 = nn.Linear(input_dim, latent_dim)\n",
        "        self.pt_log_var_t1 = nn.Linear(input_dim, latent_dim)\n",
        "\n",
        "    def forward(self, transition_input):\n",
        "        # transition_input shape: (batch, latent_dim + 1)\n",
        "        pt_mean = self.pt_mean_t1(transition_input)      # (batch, latent_dim)\n",
        "        pt_log_var = self.pt_log_var_t1(transition_input)\n",
        "        return pt_mean, pt_log_var\n"
      ]
    },
    {
      "cell_type": "code",
      "execution_count": 24,
      "metadata": {
        "colab": {
          "base_uri": "https://localhost:8080/",
          "height": 70
        },
        "id": "zY8T8PdLrlHD",
        "outputId": "70979b13-ee13-408b-8e68-bf2a58b7a10a"
      },
      "outputs": [
        {
          "data": {
            "text/plain": [
              "'\\ndef log_normal_pdf(x, mean, logvar):\\n  return - 0.5 *(\\n      tf.reduce_sum(tf.math.log(2. * np.pi) + logvar + tf.square(x - mean)/ tf.exp(logvar), axis = -1)\\n  )\\n\\ndef A_poly(A, power):\\n\\n    #Returns a decresing polynomial in powers of A.\\n    #Ex: For power = 3, returns A^3 + A^2 + A + 1\\n\\n    if power == 0: return 1\\n    return pow(A,power) + A_poly(A, power-1)\\n'"
            ]
          },
          "execution_count": 24,
          "metadata": {},
          "output_type": "execute_result"
        }
      ],
      "source": [
        "\"\"\"\n",
        "def log_normal_pdf(x, mean, logvar):\n",
        "  return - 0.5 *(\n",
        "      tf.reduce_sum(tf.math.log(2. * np.pi) + logvar + tf.square(x - mean)/ tf.exp(logvar), axis = -1)\n",
        "  )\n",
        "\n",
        "def A_poly(A, power):\n",
        "\n",
        "    #Returns a decresing polynomial in powers of A.\n",
        "    #Ex: For power = 3, returns A^3 + A^2 + A + 1\n",
        "\n",
        "    if power == 0: return 1\n",
        "    return pow(A,power) + A_poly(A, power-1)\n",
        "\"\"\""
      ]
    },
    {
      "cell_type": "code",
      "execution_count": 25,
      "metadata": {
        "id": "FW_0om6tfeUx"
      },
      "outputs": [],
      "source": [
        "def log_normal_pdf(x, mean, logvar, eps=1e-6):\n",
        "    log_two_pi = torch.log(torch.tensor(2. * math.pi, device=x.device, dtype=x.dtype))\n",
        "    return -0.5 * torch.sum(\n",
        "        log_two_pi + logvar + ((x - mean) ** 2) / (torch.exp(logvar) + eps),\n",
        "        dim=-1\n",
        "    )\n",
        "\n",
        "def A_poly(A, power):\n",
        "    \"\"\"\n",
        "    Returns A^power + A^(power-1) + ... + A + I\n",
        "    \"\"\"\n",
        "    if power == 0:\n",
        "        return torch.eye(A.size(0), device=A.device, dtype=A.dtype)  # Identity matrix\n",
        "    result = torch.zeros_like(A)\n",
        "    for i in range(power + 1):\n",
        "        result += torch.matrix_power(A, i)\n",
        "    return result\n"
      ]
    },
    {
      "cell_type": "code",
      "execution_count": 26,
      "metadata": {
        "id": "54CFsWEVrlUW"
      },
      "outputs": [],
      "source": [
        "import torch\n",
        "import torch.nn as nn\n",
        "\n",
        "class VAE(nn.Module):\n",
        "    def __init__(self, encoder, decoder, smoothing, transition, latent_dim, transition_matrix_A, prior_covariance, Markov_Prior=0):\n",
        "        super(VAE, self).__init__()\n",
        "        self.encoder = encoder\n",
        "        self.decoder = decoder\n",
        "        self.latent_dim = latent_dim\n",
        "        self.smoothing = smoothing\n",
        "        self.transition = transition\n",
        "        self.Markov_Prior = Markov_Prior\n",
        "\n",
        "        self.A = transition_matrix_A  # shape: (latent_dim, latent_dim)\n",
        "        self.cov = prior_covariance   # shape: (latent_dim,) or (latent_dim, latent_dim)\n",
        "\n",
        "        # You can track losses using simple Python variables in your training loop\n",
        "        self.total_loss = 0.0\n",
        "        self.reconstruction_loss = 0.0\n",
        "        self.kl_loss = 0.0\n",
        "\n",
        "    def reset_loss_trackers(self):\n",
        "        self.total_loss = 0.0\n",
        "        self.reconstruction_loss = 0.0\n",
        "        self.kl_loss = 0.0\n",
        "\n",
        "    @property\n",
        "    def metrics(self):\n",
        "        return [\n",
        "            self.total_loss_tracker,\n",
        "            self.reconstruction_loss_tracker,\n",
        "            self.kl_loss_tracker,\n",
        "        ]\n",
        "\n",
        "    def train_step(self, data, optimizer, device):\n",
        "\n",
        "      data = data.to(device)\n",
        "\n",
        "      if self.Markov_Prior == 1:\n",
        "          # === Markov Prior ===\n",
        "          z_mean, z_log_var, z, bt = self.encoder(data)\n",
        "\n",
        "          t1, t2 = time_interval()\n",
        "          bt1, bt2 = bt[:, t1, :], bt[:, t2, :]  #(64,32) each\n",
        "          zt2 = z[:, t2, :] #(64,15)\n",
        "          dt = (t2 - t1) * torch.ones((bt1.shape[0], 1), device=device) #(64,1)\n",
        "\n",
        "          smoothing_inputs = torch.cat((bt1, bt2, zt2, dt), dim=-1) # (64, 80) → (64, 15)\n",
        "          zt1, qs_mean, qs_log_var = self.smoothing(smoothing_inputs) #(64,15) each\n",
        "\n",
        "\n",
        "          #A_pow = self.A.to(device) ** (t2 - t1)\n",
        "          A_pow = torch.matrix_power(self.A, t2 - t1)\n",
        "          pt_mean = zt1 @ A_pow.T   # (64, 15) @ (15, 15).T → (64, 15) Matrix multiplication\n",
        "          pt_log_var = torch.log(self.cov) * A_poly(self.A, t2 - t1 - 1)\n",
        "\n",
        "      else:\n",
        "          # === Non-Markov ===\n",
        "          z_mean, z_log_var, z, bt = self.encoder(data)\n",
        "\n",
        "          t1, t2 = time_interval()\n",
        "          bt1, bt2 = bt[:, t1, :], bt[:, t2, :]  #(64,32) each\n",
        "          zt2 = z[:, t2, :] #(64,15)\n",
        "        #   dt = (t2 - t1) * torch.ones((bt1.shape[0], 1), device=device) #(64,1)\n",
        "          dt = torch.full((x.size(0), 1), t2 - t1, dtype=bt1.dtype, device=x.device)\n",
        "\n",
        "          smoothing_inputs = torch.cat((bt1, bt2, zt2, dt), dim=-1)   #(64,80)\n",
        "          zt1, qs_mean, qs_log_var = self.smoothing(smoothing_inputs)  #(64,15) each\n",
        "\n",
        "          trans_input = torch.cat((zt1, dt), dim=-1)\n",
        "          pt_mean, pt_log_var = self.transition(trans_input)\n",
        "\n",
        "      # === Decoder ===\n",
        "      reconstruction = self.decoder(zt2)\n",
        "      target = data[:, t2, :]\n",
        "\n",
        "      # === Losses ===\n",
        "      mse = torch.nn.MSELoss()\n",
        "      reconstruction_loss = mse(reconstruction, target)\n",
        "\n",
        "      log_pzt1_bt1 = log_normal_pdf(zt1, z_mean[:, t1, :], z_log_var[:, t1, :])#.sum(dim=1)\n",
        "      log_pzt2_zt1 = log_normal_pdf(zt2, pt_mean, pt_log_var)#.sum(dim=1)\n",
        "      log_pzt2_bt2 = log_normal_pdf(zt2, z_mean[:, t2, :], z_log_var[:, t2, :])#.sum(dim=1)\n",
        "      log_qzt1_given_all = log_normal_pdf(zt1, qs_mean, qs_log_var)#.sum(dim=1)\n",
        "\n",
        "      kl_loss = (log_pzt1_bt1 - log_qzt1_given_all).mean()\n",
        "      total_kl = (log_pzt1_bt1 + log_pzt2_zt1 - log_pzt2_bt2 - log_qzt1_given_all).mean()\n",
        "\n",
        "      total_loss = reconstruction_loss - total_kl\n",
        "\n",
        "      # === Backward and optimize ===\n",
        "      optimizer.zero_grad()\n",
        "      total_loss.backward()\n",
        "      optimizer.step()\n",
        "\n",
        "      # === Return metrics ===\n",
        "      return {\n",
        "          'loss': total_loss.item(),\n",
        "          'reconstruction_loss': reconstruction_loss.item(),\n",
        "          'kl_loss': -kl_loss.item()\n",
        "      }"
      ]
    },
    {
      "cell_type": "code",
      "execution_count": 27,
      "metadata": {
        "id": "8amc1rMthefv"
      },
      "outputs": [],
      "source": [
        "# Instances of the network classes\n",
        "\n",
        "encoder = Encoder(latent_dim)\n",
        "decoder = Decoder(latent_dim)\n",
        "smoothing = Smoothing(latent_dim)\n",
        "transition = Transition(latent_dim)\n"
      ]
    },
    {
      "cell_type": "code",
      "execution_count": 28,
      "metadata": {
        "colab": {
          "base_uri": "https://localhost:8080/"
        },
        "id": "Wz77qHRqwF0u",
        "outputId": "03cd0717-9b84-4d3a-ea71-c96f27ad1524"
      },
      "outputs": [
        {
          "data": {
            "text/plain": [
              "torch.Size([15])"
            ]
          },
          "execution_count": 28,
          "metadata": {},
          "output_type": "execute_result"
        }
      ],
      "source": [
        "A_diag.shape"
      ]
    },
    {
      "cell_type": "code",
      "execution_count": 29,
      "metadata": {
        "id": "H09V3ZK-ujHp"
      },
      "outputs": [],
      "source": [
        "A_diag = torch.eye(15, dtype=torch.float32, device=device)  # or torch.rand(3, 3)\n",
        "cov = torch.ones(15, dtype=torch.float32, device=device)    # or torch.eye(3)"
      ]
    },
    {
      "cell_type": "markdown",
      "metadata": {
        "id": "EdGYIOMUusfZ"
      },
      "source": []
    },
    {
      "cell_type": "code",
      "execution_count": null,
      "metadata": {
        "id": "6KCtgMRZuqlw"
      },
      "outputs": [],
      "source": []
    },
    {
      "cell_type": "code",
      "execution_count": 30,
      "metadata": {
        "colab": {
          "base_uri": "https://localhost:8080/",
          "height": 332
        },
        "id": "PnHDnDTmdF_F",
        "outputId": "d8eb02af-1974-4aad-ba2b-4080411657dc"
      },
      "outputs": [
        {
          "name": "stdout",
          "output_type": "stream",
          "text": [
            "torch.Size([64, 200, 1])\n",
            "159\n",
            "{'loss': 6952.455078125, 'reconstruction_loss': 0.685431182384491, 'kl_loss': 41.29490661621094}\n",
            "torch.Size([64, 200, 1])\n",
            "{'loss': 12.525103569030762, 'reconstruction_loss': 1.0319262742996216, 'kl_loss': 2.317070960998535}\n",
            "torch.Size([64, 200, 1])\n",
            "{'loss': 15.113569259643555, 'reconstruction_loss': 0.5850523114204407, 'kl_loss': 2.1418473720550537}\n",
            "torch.Size([64, 200, 1])\n",
            "{'loss': 46.67323303222656, 'reconstruction_loss': 0.608619749546051, 'kl_loss': 4.877772331237793}\n",
            "torch.Size([64, 200, 1])\n",
            "147\n",
            "{'loss': 54.895774841308594, 'reconstruction_loss': 0.45463407039642334, 'kl_loss': 5.679769515991211}\n",
            "torch.Size([64, 200, 1])\n",
            "{'loss': 6.265719413757324, 'reconstruction_loss': 0.9599292278289795, 'kl_loss': 1.0299123525619507}\n",
            "torch.Size([64, 200, 1])\n",
            "{'loss': 33.47584533691406, 'reconstruction_loss': 0.5694950819015503, 'kl_loss': 4.972285747528076}\n",
            "torch.Size([64, 200, 1])\n",
            "134\n",
            "{'loss': 3838.187744140625, 'reconstruction_loss': 1.112637996673584, 'kl_loss': 33.24378967285156}\n",
            "torch.Size([64, 200, 1])\n",
            "{'loss': 54.3293571472168, 'reconstruction_loss': 0.6241598725318909, 'kl_loss': 4.955827713012695}\n",
            "torch.Size([64, 200, 1])\n",
            "{'loss': 10.727173805236816, 'reconstruction_loss': 0.4589155614376068, 'kl_loss': 1.4656004905700684}\n",
            "torch.Size([64, 200, 1])\n",
            "{'loss': 52.254547119140625, 'reconstruction_loss': 0.4104464650154114, 'kl_loss': 5.656057357788086}\n",
            "torch.Size([64, 200, 1])\n",
            "{'loss': 27.919265747070312, 'reconstruction_loss': 0.7870526313781738, 'kl_loss': 3.7540829181671143}\n",
            "torch.Size([64, 200, 1])\n",
            "151\n",
            "{'loss': 54132.96484375, 'reconstruction_loss': 1.1300398111343384, 'kl_loss': 78.42765045166016}\n",
            "torch.Size([64, 200, 1])\n",
            "154\n",
            "{'loss': 926.2506713867188, 'reconstruction_loss': 0.5144858360290527, 'kl_loss': 23.21245002746582}\n",
            "torch.Size([64, 200, 1])\n",
            "{'loss': 22.82508659362793, 'reconstruction_loss': 0.4659254848957062, 'kl_loss': 3.7923965454101562}\n",
            "torch.Size([40, 200, 1])\n",
            "{'loss': 37.822059631347656, 'reconstruction_loss': 0.4253166615962982, 'kl_loss': 5.150506019592285}\n"
          ]
        }
      ],
      "source": [
        "# Testing the Network\n",
        "import math\n",
        "\n",
        "\n",
        "vae = VAE(encoder, decoder, smoothing, transition, latent_dim=3, transition_matrix_A=A_diag, prior_covariance=cov, Markov_Prior=0)       # construct the model\n",
        "vae.to(device)        # move to GPU/CPU\n",
        "vae.train()           # <- do not remove or redefine this!\n",
        "vae.reset_loss_trackers()\n",
        "\n",
        "optimizer = torch.optim.Adam(vae.parameters(), lr=1e-3)\n",
        "\n",
        "for batch in train_loader:\n",
        "    x = batch[0].to(device)\n",
        "    print(x.shape)\n",
        "    metrics = vae.train_step(x, optimizer, device)\n",
        "    print(metrics)"
      ]
    },
    {
      "cell_type": "markdown",
      "metadata": {},
      "source": [
        "# Test"
      ]
    },
    {
      "cell_type": "markdown",
      "metadata": {
        "id": "j8xG7qwdURsI"
      },
      "source": [
        "we pick time t1 = 60 and sample $z_{t_{1}}$ from $P_{b}(z_{t_{1}}|b_{t1})$."
      ]
    },
    {
      "cell_type": "code",
      "execution_count": 67,
      "metadata": {
        "id": "99xXhnzQV93u"
      },
      "outputs": [],
      "source": [
        "num_samples = 10\n",
        "X_test = generate_sine_data(num_samples)"
      ]
    },
    {
      "cell_type": "code",
      "execution_count": 36,
      "metadata": {
        "id": "yWsdjcjueM3R"
      },
      "outputs": [
        {
          "data": {
            "text/plain": [
              "torch.Size([10, 15])"
            ]
          },
          "execution_count": 36,
          "metadata": {},
          "output_type": "execute_result"
        }
      ],
      "source": [
        "t1 = 60\n",
        "X_test_tensor = torch.tensor(X_test, dtype=torch.float32).to(device)\n",
        "z_mean, z_log_var, z, bt = encoder(X_test_tensor)\n",
        "zt1 = z[:,t1,:] #(num_samples,latent dim)\n",
        "zt1.shape\n",
        "\n"
      ]
    },
    {
      "cell_type": "markdown",
      "metadata": {
        "id": "LdtZNnZDX9Mw"
      },
      "source": [
        "Then we choose the a time interval $δ_{t} = [20,100]$ to skip, sample from the forward model $P(z_{2} | z_1, δ_{t})$ to obtain $z_{t_{2}}$ at $t_2 = t_1 +  δ_{t}$"
      ]
    },
    {
      "cell_type": "code",
      "execution_count": 78,
      "metadata": {},
      "outputs": [],
      "source": [
        "def sample_gaussian(z_mean, z_log_var):\n",
        "    epsilon = torch.randn_like(z_mean)\n",
        "    return z_mean + torch.exp(0.5 * z_log_var) * epsilon\n"
      ]
    },
    {
      "cell_type": "code",
      "execution_count": 79,
      "metadata": {
        "id": "qtns6r08dNnb"
      },
      "outputs": [],
      "source": [
        "\n",
        "dt = np.random.randint(20, 101)\n",
        "dt = torch.full((num_samples, 1), dt, dtype=zt1.dtype, device=zt1.device)\n",
        "\n",
        "trans_input = torch.cat((zt1, dt), dim=-1)\n",
        "pt_mean, pt_log_var = transition(trans_input)\n",
        "\n",
        "zt2 = sample_gaussian(pt_mean, pt_log_var)\n",
        "#my transition model doesnt sample so have to do it seperately\n"
      ]
    },
    {
      "cell_type": "code",
      "execution_count": null,
      "metadata": {},
      "outputs": [
        {
          "data": {
            "text/plain": [
              "torch.Size([10, 15])"
            ]
          },
          "execution_count": 83,
          "metadata": {},
          "output_type": "execute_result"
        }
      ],
      "source": [
        "num_rollout_steps = 20\n",
        "delta = torch.ones((zt2.size(0),1), dtype=zt2.dtype, device=zt2.device) #(10,1)\n",
        "\n",
        "z_current = zt2\n",
        "z_rollput = []\n",
        "\n",
        "for _ in range(num_rollout_steps):\n",
        "trans_input = torch.cat((z_current, delta), dim=-1)\n",
        "pt_mean, pt_log_var = transition(trans_input)\n",
        "z_next = sample_gaussian"
      ]
    },
    {
      "cell_type": "code",
      "execution_count": 38,
      "metadata": {
        "id": "xU0fTbnHNTUc"
      },
      "outputs": [],
      "source": [
        "def mse_loss(x,z):\n",
        "  return (x-z)**2\n"
      ]
    },
    {
      "cell_type": "code",
      "execution_count": 39,
      "metadata": {
        "id": "D9ZaaWIPptHh"
      },
      "outputs": [],
      "source": [
        "from tqdm import tqdm\n",
        "\n",
        "def dense_layer(X_test,t1,zt1):\n",
        "  loss = []\n",
        "  for dt in tqdm(range(20,139)):\n",
        "    #for i in range(num_samples):\n",
        "    dt1 = tf.fill([tf.shape(zt1)[0], 1], tf.cast(dt, dtype=zt1.dtype))\n",
        "\n",
        "    zt2_mean, zt2_log_var = transition(tf.concat([zt1, dt1], axis=-1))\n",
        "    zt2 = sample_gaussian(zt2_mean, zt2_log_var)\n",
        "      #my transition model doesnt sample so have to do it seperately\n",
        "\n",
        "    xt2 = decoder(zt2)\n",
        "\n",
        "    loss.append(np.mean(mse_loss(xt2, X_test[:,t1+dt])))\n",
        "\n",
        "\n",
        "\n",
        "  return loss\n",
        "\n",
        "\n",
        "def markov_prior(X_test,t1,zt1):\n",
        "  trained_A = vae.A  # shape: (latent_dim,)\n",
        "  trained_cov = vae.cov  # shape: (latent_dim,)\n",
        "  loss = []\n",
        "  for dt in tqdm(range(20,139)):\n",
        "      zt2_mean = zt1 * tf.pow(trained_A, dt)  # element-wise multiplication\n",
        "      zt2_log_var = tf.math.log(trained_cov)*A_poly(trained_A,dt-1)\n",
        "\n",
        "      zt2 = sample_gaussian(zt2_mean, zt2_log_var)\n",
        "      xt2 = decoder(zt2)\n",
        "      loss.append(np.mean(mse_loss(xt2, X_test[:,t1+dt])))\n",
        "\n",
        "\n",
        "  return loss\n",
        "\n",
        "\n",
        "\n",
        "\n"
      ]
    },
    {
      "cell_type": "code",
      "execution_count": null,
      "metadata": {
        "id": "rdrT5uWz8bsw"
      },
      "outputs": [],
      "source": [
        "markov_loss = markov_prior(X_test,t1,zt1)"
      ]
    },
    {
      "cell_type": "code",
      "execution_count": null,
      "metadata": {
        "id": "s2Quc-lw8_O_"
      },
      "outputs": [],
      "source": [
        "from scipy.interpolate import UnivariateSpline\n",
        "x = np.arange(20, len(markov_loss) + 20)\n",
        "spline = UnivariateSpline(x, markov_loss, s=10)\n",
        "markov_loss_smoothed = spline(x)\n",
        "\n",
        "plt.plot(x, markov_loss, alpha = 0.25, color=\"#161a1d\", label=\"Raw Results\")\n",
        "plt.plot(x, markov_loss_smoothed, color = \"#e5383b\", label=\"Spline Interpolation\")\n",
        "plt.grid(True, alpha=0.25)\n",
        "plt.xlabel(\"Time Skip (dt)\")\n",
        "plt.ylabel(\"MSE Loss\")\n",
        "plt.title(\"Transition: Markov Prior\")\n",
        "plt.legend()\n",
        "plt.show()"
      ]
    },
    {
      "cell_type": "code",
      "execution_count": null,
      "metadata": {
        "id": "_kEzVBmar56W"
      },
      "outputs": [],
      "source": [
        "dense_loss = dense_layer(X_test,t1,zt1)\n"
      ]
    },
    {
      "cell_type": "code",
      "execution_count": null,
      "metadata": {
        "id": "Ofvx1I3jpo5P"
      },
      "outputs": [],
      "source": [
        "plt.plot(dense_loss)"
      ]
    },
    {
      "cell_type": "code",
      "execution_count": null,
      "metadata": {
        "id": "lcoK_8EA-55l"
      },
      "outputs": [],
      "source": []
    },
    {
      "cell_type": "code",
      "execution_count": null,
      "metadata": {
        "id": "uA1httoIDwYo"
      },
      "outputs": [],
      "source": [
        "# Generate Sample Preds\n",
        "\n",
        "def markov_gen(X_test,t1,zt1):\n",
        "  trained_A = vae.A  # shape: (latent_dim,)\n",
        "  trained_cov = vae.cov  # shape: (latent_dim,)\n",
        "  loss = []\n",
        "  for dt in tqdm(range(20,139)):\n",
        "      zt2_mean = zt1 * tf.pow(trained_A, dt)  # element-wise multiplication\n",
        "      zt2_log_var = tf.math.log(trained_cov)*A_poly(trained_A,dt-1)\n",
        "\n",
        "      zt2 = sample_gaussian(zt2_mean, zt2_log_var)\n",
        "      xt2 = decoder(zt2)\n",
        "\n",
        "  return xt2\n",
        "\n",
        "preds_markov = markov_gen(X_test, t1, zt1)\n",
        "preds_markov.shape\n"
      ]
    },
    {
      "cell_type": "code",
      "execution_count": null,
      "metadata": {
        "id": "3VSMbsk5D_V3"
      },
      "outputs": [],
      "source": [
        "plt.plot(X_test[0])"
      ]
    },
    {
      "cell_type": "code",
      "execution_count": null,
      "metadata": {
        "id": "1-0RMXdvEC_o"
      },
      "outputs": [],
      "source": []
    },
    {
      "cell_type": "code",
      "execution_count": null,
      "metadata": {
        "id": "QPmWe8lMUqQk"
      },
      "outputs": [],
      "source": []
    }
  ],
  "metadata": {
    "accelerator": "GPU",
    "colab": {
      "gpuType": "T4",
      "provenance": []
    },
    "kernelspec": {
      "display_name": "tf_env",
      "language": "python",
      "name": "python3"
    },
    "language_info": {
      "codemirror_mode": {
        "name": "ipython",
        "version": 3
      },
      "file_extension": ".py",
      "mimetype": "text/x-python",
      "name": "python",
      "nbconvert_exporter": "python",
      "pygments_lexer": "ipython3",
      "version": "3.10.18"
    }
  },
  "nbformat": 4,
  "nbformat_minor": 0
}
